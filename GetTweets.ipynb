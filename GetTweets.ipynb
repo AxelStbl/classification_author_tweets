{
 "cells": [
  {
   "cell_type": "code",
   "execution_count": 43,
   "metadata": {
    "ExecuteTime": {
     "end_time": "2020-01-29T17:21:23.867110Z",
     "start_time": "2020-01-29T17:21:23.858607Z"
    }
   },
   "outputs": [],
   "source": [
    "import tweepy\n",
    "import json\n",
    "import pandas as pd\n",
    "\n",
    "pd.set_option('display.max_columns', 500)"
   ]
  },
  {
   "cell_type": "code",
   "execution_count": null,
   "metadata": {
    "pycharm": {
     "name": "#%%\n"
    }
   },
   "outputs": [],
   "source": [
    "\n",
    "    print(consumer_key, consumer_secret, access_key, access_secret)"
   ]
  },
  {
   "cell_type": "code",
   "execution_count": 123,
   "metadata": {
    "ExecuteTime": {
     "end_time": "2020-01-29T17:48:17.137176Z",
     "start_time": "2020-01-29T17:48:17.128967Z"
    }
   },
   "outputs": [],
   "source": [
    "def setup_twitter_api():\n",
    "    with open('private.json') as json_file:\n",
    "        data = json.load(json_file)\n",
    "        consumer_key, consumer_secret, access_key, access_secret = data[\n",
    "            'consumer_key'], \\\n",
    "            data[\n",
    "            'consumer_secret'], \\\n",
    "            data[\n",
    "            'access_key'], \\\n",
    "            data[\n",
    "            'access_secret']\n",
    "    # Authorization to consumer key and consumer secret\n",
    "    auth = tweepy.OAuthHandler(consumer_key, consumer_secret)\n",
    "\n",
    "    # Access to user's access key and access secret\n",
    "    auth.set_access_token(access_key, access_secret)\n",
    "\n",
    "    # Calling api\n",
    "    api = tweepy.API(auth)\n",
    "    return api"
   ]
  },
  {
   "cell_type": "code",
   "execution_count": 131,
   "metadata": {
    "ExecuteTime": {
     "end_time": "2020-01-29T17:57:50.843508Z",
     "start_time": "2020-01-29T17:57:50.830424Z"
    }
   },
   "outputs": [],
   "source": [
    "# Function to extract tweets\n",
    "def get_tweets(api, usernames):\n",
    "    res=[]\n",
    "    for username in usernames:\n",
    "        tweets_store = []\n",
    "        for status in tweepy.Cursor(api.user_timeline,\n",
    "                                    screen_name=username,\n",
    "                                    tweet_mode=\"extended\").items():\n",
    "            status = status._json\n",
    "            tweets_store.append(status)\n",
    "        res.append(tweets_store)\n",
    "    return res\n"
   ]
  },
  {
   "cell_type": "code",
   "execution_count": 125,
   "metadata": {
    "ExecuteTime": {
     "end_time": "2020-01-29T17:48:30.551526Z",
     "start_time": "2020-01-29T17:48:30.540743Z"
    }
   },
   "outputs": [],
   "source": [
    "def add_tweets_to_df(dataframe, tweets):\n",
    "    for tweet in tweets:\n",
    "        if not (df.id==1222342904284418048).any():\n",
    "            dataframe = dataframe.append(dataframe.from_dict(tweet,orient='index').T, sort=True)\n",
    "    return dataframe"
   ]
  },
  {
   "cell_type": "code",
   "execution_count": 126,
   "metadata": {
    "ExecuteTime": {
     "end_time": "2020-01-29T17:48:32.872405Z",
     "start_time": "2020-01-29T17:48:32.864458Z"
    }
   },
   "outputs": [],
   "source": [
    "funny_accounts = [\"@dxxnya\",\n",
    "                  \"@Shen_the_Bird\",\n",
    "                  \"@LostCatDog\",\n",
    "                  \"@Dadsaysjokes\"]"
   ]
  },
  {
   "cell_type": "code",
   "execution_count": 127,
   "metadata": {
    "ExecuteTime": {
     "end_time": "2020-01-29T17:48:53.779778Z",
     "start_time": "2020-01-29T17:48:53.774447Z"
    }
   },
   "outputs": [],
   "source": [
    "api = setup_twitter_api()"
   ]
  },
  {
   "cell_type": "code",
   "execution_count": 139,
   "metadata": {
    "ExecuteTime": {
     "end_time": "2020-01-29T18:18:32.374528Z",
     "start_time": "2020-01-29T18:18:32.330370Z"
    }
   },
   "outputs": [],
   "source": [
    "df = pd.DataFrame(columns=all_tweets[0][0].keys())"
   ]
  },
  {
   "cell_type": "code",
   "execution_count": 133,
   "metadata": {
    "ExecuteTime": {
     "end_time": "2020-01-29T18:11:53.764404Z",
     "start_time": "2020-01-29T18:04:13.506069Z"
    }
   },
   "outputs": [],
   "source": [
    "all_tweets = get_tweets(api, usernames=funny_accounts)"
   ]
  },
  {
   "cell_type": "code",
   "execution_count": 141,
   "metadata": {
    "ExecuteTime": {
     "end_time": "2020-01-29T18:21:21.011697Z",
     "start_time": "2020-01-29T18:19:17.233978Z"
    }
   },
   "outputs": [],
   "source": [
    "for tweets in all_tweets:\n",
    "    df = add_tweets_to_df(df, tweets)"
   ]
  },
  {
   "cell_type": "code",
   "execution_count": 145,
   "metadata": {
    "ExecuteTime": {
     "end_time": "2020-01-29T18:24:51.492160Z",
     "start_time": "2020-01-29T18:24:50.828532Z"
    }
   },
   "outputs": [],
   "source": [
    "df.to_csv(\"tweets.csv\")"
   ]
  },
  {
   "cell_type": "code",
   "execution_count": 152,
   "metadata": {
    "ExecuteTime": {
     "end_time": "2020-01-29T18:34:50.258145Z",
     "start_time": "2020-01-29T18:34:50.107816Z"
    }
   },
   "outputs": [
    {
     "data": {
      "text/plain": [
       "0       {'id': 2492132730, 'id_str': '2492132730', 'na...\n",
       "1       {'id': 2492132730, 'id_str': '2492132730', 'na...\n",
       "2       {'id': 2492132730, 'id_str': '2492132730', 'na...\n",
       "3       {'id': 2492132730, 'id_str': '2492132730', 'na...\n",
       "4       {'id': 2492132730, 'id_str': '2492132730', 'na...\n",
       "                              ...                        \n",
       "6154    {'id': 911735797971345411, 'id_str': '91173579...\n",
       "6155    {'id': 911735797971345411, 'id_str': '91173579...\n",
       "6156    {'id': 911735797971345411, 'id_str': '91173579...\n",
       "6157    {'id': 911735797971345411, 'id_str': '91173579...\n",
       "6158    {'id': 911735797971345411, 'id_str': '91173579...\n",
       "Name: user, Length: 6159, dtype: object"
      ]
     },
     "execution_count": 152,
     "metadata": {},
     "output_type": "execute_result"
    }
   ],
   "source": [
    "pd.read_csv(\"tweets.csv\")"
   ]
  },
  {
   "cell_type": "code",
   "execution_count": null,
   "metadata": {},
   "outputs": [],
   "source": []
  }
 ],
 "metadata": {
  "kernelspec": {
   "display_name": "Python 3",
   "language": "python",
   "name": "python3"
  },
  "language_info": {
   "codemirror_mode": {
    "name": "ipython",
    "version": 3
   },
   "file_extension": ".py",
   "mimetype": "text/x-python",
   "name": "python",
   "nbconvert_exporter": "python",
   "pygments_lexer": "ipython3",
   "version": "3.6.9"
  },
  "latex_envs": {
   "LaTeX_envs_menu_present": true,
   "autoclose": false,
   "autocomplete": true,
   "bibliofile": "biblio.bib",
   "cite_by": "apalike",
   "current_citInitial": 1,
   "eqLabelWithNumbers": true,
   "eqNumInitial": 1,
   "hotkeys": {
    "equation": "Ctrl-E",
    "itemize": "Ctrl-I"
   },
   "labels_anchors": false,
   "latex_user_defs": false,
   "report_style_numbering": false,
   "user_envs_cfg": false
  },
  "pycharm": {
   "stem_cell": {
    "cell_type": "raw",
    "metadata": {
     "collapsed": false
    },
    "source": [
     "with open('private.json') as json_file:\n",
     "    data = json.load(json_file)\n",
     "    consumer_key, consumer_secret, access_key, access_secret = data[\n",
     "                                                                   'consumer_key'], \\\n",
     "                                                               data[\n",
     "                                                                   'consumer_secret'], \\\n",
     "                                                               data[\n",
     "                                                                   'access_key'], \\\n",
     "                                                               data[\n",
     "                                                                   'access_secret']\n",
     "    print(consumer_key, consumer_secret, access_key, access_secret)"
    ]
   }
  },
  "toc": {
   "base_numbering": 1,
   "nav_menu": {},
   "number_sections": true,
   "sideBar": true,
   "skip_h1_title": false,
   "title_cell": "Table of Contents",
   "title_sidebar": "Contents",
   "toc_cell": false,
   "toc_position": {},
   "toc_section_display": true,
   "toc_window_display": false
  }
 },
 "nbformat": 4,
 "nbformat_minor": 2
}
