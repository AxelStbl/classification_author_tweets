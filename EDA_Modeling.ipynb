{
 "cells": [
  {
   "cell_type": "code",
   "execution_count": 153,
   "metadata": {},
   "outputs": [],
   "source": [
    "import pandas as pd\n",
    "import os, string\n",
    "import re\n",
    "import seaborn as sns\n",
    "\n",
    "from keras.preprocessing.text import Tokenizer\n",
    "from gensim.models.fasttext import FastText\n",
    "import numpy as np\n",
    "import matplotlib.pyplot as plt\n",
    "from collections import Counter, defaultdict\n",
    "from sklearn.feature_extraction.text import CountVectorizer\n",
    "\n",
    "import nltk\n",
    "from string import punctuation\n",
    "from nltk.corpus import stopwords\n",
    "from nltk.tokenize import word_tokenize\n",
    "from nltk.stem import WordNetLemmatizer\n",
    "from nltk.tokenize import sent_tokenize\n",
    "from nltk import WordPunctTokenizer\n",
    "import spacy\n",
    "from spacy.tokenizer import Tokenizer\n",
    "from sklearn.preprocessing import LabelEncoder\n",
    "from sklearn.model_selection import train_test_split, cross_val_score \n",
    "from sklearn.preprocessing import StandardScaler\n",
    "from sklearn.feature_extraction.text import TfidfVectorizer\n",
    "from sklearn.linear_model import LogisticRegression\n",
    "from sklearn.linear_model import LinearRegression\n",
    "from sklearn import metrics\n",
    "from sklearn.base import BaseEstimator, TransformerMixin\n",
    "from sklearn.preprocessing import MinMaxScaler\n",
    "from nltk.tokenize import word_tokenize\n",
    "from sklearn.feature_extraction import text\n",
    "\n",
    "import nltk\n",
    "# nltk.download('punkt')\n",
    "# nltk.download('wordnet')\n",
    "# nltk.download('stopwords')\n",
    "en_stop = set(nltk.corpus.stopwords.words('english'))"
   ]
  },
  {
   "cell_type": "markdown",
   "metadata": {},
   "source": [
    "#### Read data"
   ]
  },
  {
   "cell_type": "code",
   "execution_count": 154,
   "metadata": {},
   "outputs": [],
   "source": [
    "df = pd.read_json('reddit_jokes.json')"
   ]
  },
  {
   "cell_type": "markdown",
   "metadata": {},
   "source": [
    "#### EDA"
   ]
  },
  {
   "cell_type": "code",
   "execution_count": 155,
   "metadata": {},
   "outputs": [
    {
     "data": {
      "text/html": [
       "<div>\n",
       "<style scoped>\n",
       "    .dataframe tbody tr th:only-of-type {\n",
       "        vertical-align: middle;\n",
       "    }\n",
       "\n",
       "    .dataframe tbody tr th {\n",
       "        vertical-align: top;\n",
       "    }\n",
       "\n",
       "    .dataframe thead th {\n",
       "        text-align: right;\n",
       "    }\n",
       "</style>\n",
       "<table border=\"1\" class=\"dataframe\">\n",
       "  <thead>\n",
       "    <tr style=\"text-align: right;\">\n",
       "      <th></th>\n",
       "      <th>body</th>\n",
       "      <th>id</th>\n",
       "      <th>score</th>\n",
       "      <th>title</th>\n",
       "    </tr>\n",
       "  </thead>\n",
       "  <tbody>\n",
       "    <tr>\n",
       "      <th>0</th>\n",
       "      <td>Now I have to say \"Leroy can you please paint ...</td>\n",
       "      <td>5tz52q</td>\n",
       "      <td>1</td>\n",
       "      <td>I hate how you cant even say black paint anymore</td>\n",
       "    </tr>\n",
       "    <tr>\n",
       "      <th>1</th>\n",
       "      <td>Pizza doesn't scream when you put it in the ov...</td>\n",
       "      <td>5tz4dd</td>\n",
       "      <td>0</td>\n",
       "      <td>What's the difference between a Jew in Nazi Ge...</td>\n",
       "    </tr>\n",
       "    <tr>\n",
       "      <th>2</th>\n",
       "      <td>...and being there really helped me learn abou...</td>\n",
       "      <td>5tz319</td>\n",
       "      <td>0</td>\n",
       "      <td>I recently went to America....</td>\n",
       "    </tr>\n",
       "    <tr>\n",
       "      <th>3</th>\n",
       "      <td>A Sunday school teacher is concerned that his ...</td>\n",
       "      <td>5tz2wj</td>\n",
       "      <td>1</td>\n",
       "      <td>Brian raises his hand and says, “He’s in Heaven.”</td>\n",
       "    </tr>\n",
       "    <tr>\n",
       "      <th>4</th>\n",
       "      <td>He got caught trying to sell the two books to ...</td>\n",
       "      <td>5tz1pc</td>\n",
       "      <td>0</td>\n",
       "      <td>You hear about the University book store worke...</td>\n",
       "    </tr>\n",
       "  </tbody>\n",
       "</table>\n",
       "</div>"
      ],
      "text/plain": [
       "                                                body      id  score  \\\n",
       "0  Now I have to say \"Leroy can you please paint ...  5tz52q      1   \n",
       "1  Pizza doesn't scream when you put it in the ov...  5tz4dd      0   \n",
       "2  ...and being there really helped me learn abou...  5tz319      0   \n",
       "3  A Sunday school teacher is concerned that his ...  5tz2wj      1   \n",
       "4  He got caught trying to sell the two books to ...  5tz1pc      0   \n",
       "\n",
       "                                               title  \n",
       "0   I hate how you cant even say black paint anymore  \n",
       "1  What's the difference between a Jew in Nazi Ge...  \n",
       "2                     I recently went to America....  \n",
       "3  Brian raises his hand and says, “He’s in Heaven.”  \n",
       "4  You hear about the University book store worke...  "
      ]
     },
     "execution_count": 155,
     "metadata": {},
     "output_type": "execute_result"
    }
   ],
   "source": [
    "df.head()"
   ]
  },
  {
   "cell_type": "code",
   "execution_count": 156,
   "metadata": {},
   "outputs": [
    {
     "data": {
      "text/html": [
       "<div>\n",
       "<style scoped>\n",
       "    .dataframe tbody tr th:only-of-type {\n",
       "        vertical-align: middle;\n",
       "    }\n",
       "\n",
       "    .dataframe tbody tr th {\n",
       "        vertical-align: top;\n",
       "    }\n",
       "\n",
       "    .dataframe thead th {\n",
       "        text-align: right;\n",
       "    }\n",
       "</style>\n",
       "<table border=\"1\" class=\"dataframe\">\n",
       "  <thead>\n",
       "    <tr style=\"text-align: right;\">\n",
       "      <th></th>\n",
       "      <th>score</th>\n",
       "    </tr>\n",
       "  </thead>\n",
       "  <tbody>\n",
       "    <tr>\n",
       "      <th>count</th>\n",
       "      <td>194553.000000</td>\n",
       "    </tr>\n",
       "    <tr>\n",
       "      <th>mean</th>\n",
       "      <td>118.223255</td>\n",
       "    </tr>\n",
       "    <tr>\n",
       "      <th>std</th>\n",
       "      <td>936.231277</td>\n",
       "    </tr>\n",
       "    <tr>\n",
       "      <th>min</th>\n",
       "      <td>0.000000</td>\n",
       "    </tr>\n",
       "    <tr>\n",
       "      <th>25%</th>\n",
       "      <td>0.000000</td>\n",
       "    </tr>\n",
       "    <tr>\n",
       "      <th>50%</th>\n",
       "      <td>3.000000</td>\n",
       "    </tr>\n",
       "    <tr>\n",
       "      <th>75%</th>\n",
       "      <td>16.000000</td>\n",
       "    </tr>\n",
       "    <tr>\n",
       "      <th>max</th>\n",
       "      <td>48526.000000</td>\n",
       "    </tr>\n",
       "  </tbody>\n",
       "</table>\n",
       "</div>"
      ],
      "text/plain": [
       "               score\n",
       "count  194553.000000\n",
       "mean      118.223255\n",
       "std       936.231277\n",
       "min         0.000000\n",
       "25%         0.000000\n",
       "50%         3.000000\n",
       "75%        16.000000\n",
       "max     48526.000000"
      ]
     },
     "execution_count": 156,
     "metadata": {},
     "output_type": "execute_result"
    }
   ],
   "source": [
    "df.describe()"
   ]
  },
  {
   "cell_type": "code",
   "execution_count": 157,
   "metadata": {},
   "outputs": [
    {
     "name": "stdout",
     "output_type": "stream",
     "text": [
      "<class 'pandas.core.frame.DataFrame'>\n",
      "RangeIndex: 194553 entries, 0 to 194552\n",
      "Data columns (total 4 columns):\n",
      "body     194553 non-null object\n",
      "id       194553 non-null object\n",
      "score    194553 non-null int64\n",
      "title    194553 non-null object\n",
      "dtypes: int64(1), object(3)\n",
      "memory usage: 5.9+ MB\n"
     ]
    }
   ],
   "source": [
    "df.info()"
   ]
  },
  {
   "cell_type": "markdown",
   "metadata": {},
   "source": [
    "Distributions - Numerical features:"
   ]
  },
  {
   "cell_type": "code",
   "execution_count": 158,
   "metadata": {},
   "outputs": [],
   "source": [
    "# Remove skew\n",
    "def remove_skew_95(df,col,mean = None,std = None):\n",
    "    if not mean:\n",
    "        mean = df[col].mean()\n",
    "    if not std:\n",
    "        std = df[col].std()\n",
    "    df = df[df[col] > (mean-2*std)]\n",
    "    df = df[df[col] < (mean+2*std)]\n",
    "    return df"
   ]
  },
  {
   "cell_type": "code",
   "execution_count": 159,
   "metadata": {},
   "outputs": [],
   "source": [
    "df = remove_skew_95(df,'score')"
   ]
  },
  {
   "cell_type": "code",
   "execution_count": 160,
   "metadata": {},
   "outputs": [
    {
     "data": {
      "image/png": "[encoded data removed]",
      "text/plain": [
       "<Figure size 432x288 with 1 Axes>"
      ]
     },
     "metadata": {
      "needs_background": "light"
     },
     "output_type": "display_data"
    }
   ],
   "source": [
    "num_features = ['score']\n",
    "for feat in num_features:\n",
    "    ax = sns.distplot(df[df[feat].notna()][feat]);\n",
    "    ax.set_title(f'{feat} - Density function');\n",
    "    ax.set_ylabel('Density value');\n",
    "    plt.show();"
   ]
  },
  {
   "cell_type": "code",
   "execution_count": 161,
   "metadata": {},
   "outputs": [],
   "source": [
    "df = remove_skew_95(df,'score')"
   ]
  },
  {
   "cell_type": "code",
   "execution_count": 162,
   "metadata": {},
   "outputs": [
    {
     "data": {
      "image/png": "[encoded data removed]",
      "text/plain": [
       "<Figure size 432x288 with 1 Axes>"
      ]
     },
     "metadata": {
      "needs_background": "light"
     },
     "output_type": "display_data"
    }
   ],
   "source": [
    "num_features = ['score']\n",
    "for feat in num_features:\n",
    "    ax = sns.distplot(df[df[feat].notna()][feat]);\n",
    "    ax.set_title(f'{feat} - Density function');\n",
    "    ax.set_ylabel('Density value');\n",
    "    plt.show();"
   ]
  },
  {
   "cell_type": "code",
   "execution_count": 163,
   "metadata": {},
   "outputs": [],
   "source": [
    "score_filtered = (df[df['score']> 0]['score']).reset_index()['score']"
   ]
  },
  {
   "cell_type": "code",
   "execution_count": 164,
   "metadata": {},
   "outputs": [
    {
     "data": {
      "text/plain": [
       "0           1\n",
       "1           1\n",
       "2           1\n",
       "3          15\n",
       "4           3\n",
       "         ... \n",
       "125368    123\n",
       "125369      5\n",
       "125370     12\n",
       "125371     44\n",
       "125372     63\n",
       "Name: score, Length: 125373, dtype: int64"
      ]
     },
     "execution_count": 164,
     "metadata": {},
     "output_type": "execute_result"
    }
   ],
   "source": [
    "score_filtered"
   ]
  },
  {
   "cell_type": "code",
   "execution_count": 165,
   "metadata": {},
   "outputs": [
    {
     "data": {
      "text/html": [
       "<div>\n",
       "<style scoped>\n",
       "    .dataframe tbody tr th:only-of-type {\n",
       "        vertical-align: middle;\n",
       "    }\n",
       "\n",
       "    .dataframe tbody tr th {\n",
       "        vertical-align: top;\n",
       "    }\n",
       "\n",
       "    .dataframe thead th {\n",
       "        text-align: right;\n",
       "    }\n",
       "</style>\n",
       "<table border=\"1\" class=\"dataframe\">\n",
       "  <thead>\n",
       "    <tr style=\"text-align: right;\">\n",
       "      <th></th>\n",
       "      <th>score</th>\n",
       "    </tr>\n",
       "  </thead>\n",
       "  <tbody>\n",
       "    <tr>\n",
       "      <th>count</th>\n",
       "      <td>186934.000000</td>\n",
       "    </tr>\n",
       "    <tr>\n",
       "      <th>mean</th>\n",
       "      <td>20.158783</td>\n",
       "    </tr>\n",
       "    <tr>\n",
       "      <th>std</th>\n",
       "      <td>49.086623</td>\n",
       "    </tr>\n",
       "    <tr>\n",
       "      <th>min</th>\n",
       "      <td>0.000000</td>\n",
       "    </tr>\n",
       "    <tr>\n",
       "      <th>25%</th>\n",
       "      <td>0.000000</td>\n",
       "    </tr>\n",
       "    <tr>\n",
       "      <th>50%</th>\n",
       "      <td>2.000000</td>\n",
       "    </tr>\n",
       "    <tr>\n",
       "      <th>75%</th>\n",
       "      <td>13.000000</td>\n",
       "    </tr>\n",
       "    <tr>\n",
       "      <th>max</th>\n",
       "      <td>365.000000</td>\n",
       "    </tr>\n",
       "  </tbody>\n",
       "</table>\n",
       "</div>"
      ],
      "text/plain": [
       "               score\n",
       "count  186934.000000\n",
       "mean       20.158783\n",
       "std        49.086623\n",
       "min         0.000000\n",
       "25%         0.000000\n",
       "50%         2.000000\n",
       "75%        13.000000\n",
       "max       365.000000"
      ]
     },
     "execution_count": 165,
     "metadata": {},
     "output_type": "execute_result"
    }
   ],
   "source": [
    "df.describe()"
   ]
  },
  {
   "cell_type": "code",
   "execution_count": 166,
   "metadata": {},
   "outputs": [
    {
     "data": {
      "image/png": "[encoded data removed]",
      "text/plain": [
       "<Figure size 432x288 with 1 Axes>"
      ]
     },
     "metadata": {
      "needs_background": "light"
     },
     "output_type": "display_data"
    }
   ],
   "source": [
    "num_features = ['score']\n",
    "for feat in num_features:\n",
    "    ax = sns.distplot(score_filtered);\n",
    "    ax.set_title(f'{feat} - Density function');\n",
    "    ax.set_ylabel('Density value');\n",
    "    plt.show();"
   ]
  },
  {
   "cell_type": "code",
   "execution_count": 167,
   "metadata": {},
   "outputs": [
    {
     "data": {
      "text/plain": [
       "0          12\n",
       "1          13\n",
       "2          34\n",
       "3          87\n",
       "4          12\n",
       "         ... \n",
       "194548     10\n",
       "194549      5\n",
       "194550      7\n",
       "194551    104\n",
       "194552      5\n",
       "Name: body, Length: 186934, dtype: int64"
      ]
     },
     "execution_count": 167,
     "metadata": {},
     "output_type": "execute_result"
    }
   ],
   "source": [
    "df.body.apply(lambda x: len(x.split(' ')))"
   ]
  },
  {
   "cell_type": "code",
   "execution_count": 168,
   "metadata": {},
   "outputs": [],
   "source": [
    "df['body_len']= df.body.str.len()\n",
    "df['title_len']= df.title.str.len()\n",
    "df['total_len'] = df['body_len']+df['title_len']\n",
    "df['body_words']= df.body.apply(lambda x: len(x.split(' ')))\n",
    "df['title_words']= df.title.apply(lambda x: len(x.split(' ')))\n",
    "df['total_words'] = df['body_words']+df['title_words']"
   ]
  },
  {
   "cell_type": "code",
   "execution_count": 169,
   "metadata": {},
   "outputs": [
    {
     "data": {
      "text/html": [
       "<div>\n",
       "<style scoped>\n",
       "    .dataframe tbody tr th:only-of-type {\n",
       "        vertical-align: middle;\n",
       "    }\n",
       "\n",
       "    .dataframe tbody tr th {\n",
       "        vertical-align: top;\n",
       "    }\n",
       "\n",
       "    .dataframe thead th {\n",
       "        text-align: right;\n",
       "    }\n",
       "</style>\n",
       "<table border=\"1\" class=\"dataframe\">\n",
       "  <thead>\n",
       "    <tr style=\"text-align: right;\">\n",
       "      <th></th>\n",
       "      <th>body_len</th>\n",
       "    </tr>\n",
       "  </thead>\n",
       "  <tbody>\n",
       "    <tr>\n",
       "      <th>count</th>\n",
       "      <td>186934.000000</td>\n",
       "    </tr>\n",
       "    <tr>\n",
       "      <th>mean</th>\n",
       "      <td>196.922112</td>\n",
       "    </tr>\n",
       "    <tr>\n",
       "      <th>std</th>\n",
       "      <td>564.373112</td>\n",
       "    </tr>\n",
       "    <tr>\n",
       "      <th>min</th>\n",
       "      <td>0.000000</td>\n",
       "    </tr>\n",
       "    <tr>\n",
       "      <th>25%</th>\n",
       "      <td>22.000000</td>\n",
       "    </tr>\n",
       "    <tr>\n",
       "      <th>50%</th>\n",
       "      <td>43.000000</td>\n",
       "    </tr>\n",
       "    <tr>\n",
       "      <th>75%</th>\n",
       "      <td>133.000000</td>\n",
       "    </tr>\n",
       "    <tr>\n",
       "      <th>max</th>\n",
       "      <td>39728.000000</td>\n",
       "    </tr>\n",
       "  </tbody>\n",
       "</table>\n",
       "</div>"
      ],
      "text/plain": [
       "            body_len\n",
       "count  186934.000000\n",
       "mean      196.922112\n",
       "std       564.373112\n",
       "min         0.000000\n",
       "25%        22.000000\n",
       "50%        43.000000\n",
       "75%       133.000000\n",
       "max     39728.000000"
      ]
     },
     "execution_count": 169,
     "metadata": {},
     "output_type": "execute_result"
    }
   ],
   "source": [
    "pd.DataFrame(df['body_len'].describe())"
   ]
  },
  {
   "cell_type": "code",
   "execution_count": 170,
   "metadata": {},
   "outputs": [
    {
     "data": {
      "text/html": [
       "<div>\n",
       "<style scoped>\n",
       "    .dataframe tbody tr th:only-of-type {\n",
       "        vertical-align: middle;\n",
       "    }\n",
       "\n",
       "    .dataframe tbody tr th {\n",
       "        vertical-align: top;\n",
       "    }\n",
       "\n",
       "    .dataframe thead th {\n",
       "        text-align: right;\n",
       "    }\n",
       "</style>\n",
       "<table border=\"1\" class=\"dataframe\">\n",
       "  <thead>\n",
       "    <tr style=\"text-align: right;\">\n",
       "      <th></th>\n",
       "      <th>title_len</th>\n",
       "    </tr>\n",
       "  </thead>\n",
       "  <tbody>\n",
       "    <tr>\n",
       "      <th>count</th>\n",
       "      <td>186934.000000</td>\n",
       "    </tr>\n",
       "    <tr>\n",
       "      <th>mean</th>\n",
       "      <td>44.800630</td>\n",
       "    </tr>\n",
       "    <tr>\n",
       "      <th>std</th>\n",
       "      <td>23.157885</td>\n",
       "    </tr>\n",
       "    <tr>\n",
       "      <th>min</th>\n",
       "      <td>1.000000</td>\n",
       "    </tr>\n",
       "    <tr>\n",
       "      <th>25%</th>\n",
       "      <td>30.000000</td>\n",
       "    </tr>\n",
       "    <tr>\n",
       "      <th>50%</th>\n",
       "      <td>42.000000</td>\n",
       "    </tr>\n",
       "    <tr>\n",
       "      <th>75%</th>\n",
       "      <td>55.000000</td>\n",
       "    </tr>\n",
       "    <tr>\n",
       "      <th>max</th>\n",
       "      <td>300.000000</td>\n",
       "    </tr>\n",
       "  </tbody>\n",
       "</table>\n",
       "</div>"
      ],
      "text/plain": [
       "           title_len\n",
       "count  186934.000000\n",
       "mean       44.800630\n",
       "std        23.157885\n",
       "min         1.000000\n",
       "25%        30.000000\n",
       "50%        42.000000\n",
       "75%        55.000000\n",
       "max       300.000000"
      ]
     },
     "execution_count": 170,
     "metadata": {},
     "output_type": "execute_result"
    }
   ],
   "source": [
    "pd.DataFrame(df['title_len'].describe())"
   ]
  },
  {
   "cell_type": "code",
   "execution_count": 171,
   "metadata": {},
   "outputs": [
    {
     "data": {
      "text/html": [
       "<div>\n",
       "<style scoped>\n",
       "    .dataframe tbody tr th:only-of-type {\n",
       "        vertical-align: middle;\n",
       "    }\n",
       "\n",
       "    .dataframe tbody tr th {\n",
       "        vertical-align: top;\n",
       "    }\n",
       "\n",
       "    .dataframe thead th {\n",
       "        text-align: right;\n",
       "    }\n",
       "</style>\n",
       "<table border=\"1\" class=\"dataframe\">\n",
       "  <thead>\n",
       "    <tr style=\"text-align: right;\">\n",
       "      <th></th>\n",
       "      <th>total_len</th>\n",
       "    </tr>\n",
       "  </thead>\n",
       "  <tbody>\n",
       "    <tr>\n",
       "      <th>count</th>\n",
       "      <td>186934.000000</td>\n",
       "    </tr>\n",
       "    <tr>\n",
       "      <th>mean</th>\n",
       "      <td>241.722742</td>\n",
       "    </tr>\n",
       "    <tr>\n",
       "      <th>std</th>\n",
       "      <td>562.651070</td>\n",
       "    </tr>\n",
       "    <tr>\n",
       "      <th>min</th>\n",
       "      <td>1.000000</td>\n",
       "    </tr>\n",
       "    <tr>\n",
       "      <th>25%</th>\n",
       "      <td>66.000000</td>\n",
       "    </tr>\n",
       "    <tr>\n",
       "      <th>50%</th>\n",
       "      <td>94.000000</td>\n",
       "    </tr>\n",
       "    <tr>\n",
       "      <th>75%</th>\n",
       "      <td>179.000000</td>\n",
       "    </tr>\n",
       "    <tr>\n",
       "      <th>max</th>\n",
       "      <td>39742.000000</td>\n",
       "    </tr>\n",
       "  </tbody>\n",
       "</table>\n",
       "</div>"
      ],
      "text/plain": [
       "           total_len\n",
       "count  186934.000000\n",
       "mean      241.722742\n",
       "std       562.651070\n",
       "min         1.000000\n",
       "25%        66.000000\n",
       "50%        94.000000\n",
       "75%       179.000000\n",
       "max     39742.000000"
      ]
     },
     "execution_count": 171,
     "metadata": {},
     "output_type": "execute_result"
    }
   ],
   "source": [
    "pd.DataFrame(df['total_len'].describe())"
   ]
  },
  {
   "cell_type": "code",
   "execution_count": 172,
   "metadata": {},
   "outputs": [
    {
     "data": {
      "text/html": [
       "<div>\n",
       "<style scoped>\n",
       "    .dataframe tbody tr th:only-of-type {\n",
       "        vertical-align: middle;\n",
       "    }\n",
       "\n",
       "    .dataframe tbody tr th {\n",
       "        vertical-align: top;\n",
       "    }\n",
       "\n",
       "    .dataframe thead th {\n",
       "        text-align: right;\n",
       "    }\n",
       "</style>\n",
       "<table border=\"1\" class=\"dataframe\">\n",
       "  <thead>\n",
       "    <tr style=\"text-align: right;\">\n",
       "      <th></th>\n",
       "      <th>body_words</th>\n",
       "    </tr>\n",
       "  </thead>\n",
       "  <tbody>\n",
       "    <tr>\n",
       "      <th>count</th>\n",
       "      <td>186934.000000</td>\n",
       "    </tr>\n",
       "    <tr>\n",
       "      <th>mean</th>\n",
       "      <td>36.283084</td>\n",
       "    </tr>\n",
       "    <tr>\n",
       "      <th>std</th>\n",
       "      <td>102.653563</td>\n",
       "    </tr>\n",
       "    <tr>\n",
       "      <th>min</th>\n",
       "      <td>1.000000</td>\n",
       "    </tr>\n",
       "    <tr>\n",
       "      <th>25%</th>\n",
       "      <td>4.000000</td>\n",
       "    </tr>\n",
       "    <tr>\n",
       "      <th>50%</th>\n",
       "      <td>8.000000</td>\n",
       "    </tr>\n",
       "    <tr>\n",
       "      <th>75%</th>\n",
       "      <td>24.000000</td>\n",
       "    </tr>\n",
       "    <tr>\n",
       "      <th>max</th>\n",
       "      <td>7408.000000</td>\n",
       "    </tr>\n",
       "  </tbody>\n",
       "</table>\n",
       "</div>"
      ],
      "text/plain": [
       "          body_words\n",
       "count  186934.000000\n",
       "mean       36.283084\n",
       "std       102.653563\n",
       "min         1.000000\n",
       "25%         4.000000\n",
       "50%         8.000000\n",
       "75%        24.000000\n",
       "max      7408.000000"
      ]
     },
     "execution_count": 172,
     "metadata": {},
     "output_type": "execute_result"
    }
   ],
   "source": [
    "pd.DataFrame(df['body_words'].describe())"
   ]
  },
  {
   "cell_type": "code",
   "execution_count": 173,
   "metadata": {},
   "outputs": [
    {
     "data": {
      "text/html": [
       "<div>\n",
       "<style scoped>\n",
       "    .dataframe tbody tr th:only-of-type {\n",
       "        vertical-align: middle;\n",
       "    }\n",
       "\n",
       "    .dataframe tbody tr th {\n",
       "        vertical-align: top;\n",
       "    }\n",
       "\n",
       "    .dataframe thead th {\n",
       "        text-align: right;\n",
       "    }\n",
       "</style>\n",
       "<table border=\"1\" class=\"dataframe\">\n",
       "  <thead>\n",
       "    <tr style=\"text-align: right;\">\n",
       "      <th></th>\n",
       "      <th>title_words</th>\n",
       "    </tr>\n",
       "  </thead>\n",
       "  <tbody>\n",
       "    <tr>\n",
       "      <th>count</th>\n",
       "      <td>186934.000000</td>\n",
       "    </tr>\n",
       "    <tr>\n",
       "      <th>mean</th>\n",
       "      <td>8.567794</td>\n",
       "    </tr>\n",
       "    <tr>\n",
       "      <th>std</th>\n",
       "      <td>4.440246</td>\n",
       "    </tr>\n",
       "    <tr>\n",
       "      <th>min</th>\n",
       "      <td>1.000000</td>\n",
       "    </tr>\n",
       "    <tr>\n",
       "      <th>25%</th>\n",
       "      <td>6.000000</td>\n",
       "    </tr>\n",
       "    <tr>\n",
       "      <th>50%</th>\n",
       "      <td>8.000000</td>\n",
       "    </tr>\n",
       "    <tr>\n",
       "      <th>75%</th>\n",
       "      <td>11.000000</td>\n",
       "    </tr>\n",
       "    <tr>\n",
       "      <th>max</th>\n",
       "      <td>66.000000</td>\n",
       "    </tr>\n",
       "  </tbody>\n",
       "</table>\n",
       "</div>"
      ],
      "text/plain": [
       "         title_words\n",
       "count  186934.000000\n",
       "mean        8.567794\n",
       "std         4.440246\n",
       "min         1.000000\n",
       "25%         6.000000\n",
       "50%         8.000000\n",
       "75%        11.000000\n",
       "max        66.000000"
      ]
     },
     "execution_count": 173,
     "metadata": {},
     "output_type": "execute_result"
    }
   ],
   "source": [
    "pd.DataFrame(df['title_words'].describe())"
   ]
  },
  {
   "cell_type": "code",
   "execution_count": 174,
   "metadata": {},
   "outputs": [
    {
     "data": {
      "text/html": [
       "<div>\n",
       "<style scoped>\n",
       "    .dataframe tbody tr th:only-of-type {\n",
       "        vertical-align: middle;\n",
       "    }\n",
       "\n",
       "    .dataframe tbody tr th {\n",
       "        vertical-align: top;\n",
       "    }\n",
       "\n",
       "    .dataframe thead th {\n",
       "        text-align: right;\n",
       "    }\n",
       "</style>\n",
       "<table border=\"1\" class=\"dataframe\">\n",
       "  <thead>\n",
       "    <tr style=\"text-align: right;\">\n",
       "      <th></th>\n",
       "      <th>total_words</th>\n",
       "    </tr>\n",
       "  </thead>\n",
       "  <tbody>\n",
       "    <tr>\n",
       "      <th>count</th>\n",
       "      <td>186934.000000</td>\n",
       "    </tr>\n",
       "    <tr>\n",
       "      <th>mean</th>\n",
       "      <td>44.850878</td>\n",
       "    </tr>\n",
       "    <tr>\n",
       "      <th>std</th>\n",
       "      <td>102.317362</td>\n",
       "    </tr>\n",
       "    <tr>\n",
       "      <th>min</th>\n",
       "      <td>2.000000</td>\n",
       "    </tr>\n",
       "    <tr>\n",
       "      <th>25%</th>\n",
       "      <td>13.000000</td>\n",
       "    </tr>\n",
       "    <tr>\n",
       "      <th>50%</th>\n",
       "      <td>18.000000</td>\n",
       "    </tr>\n",
       "    <tr>\n",
       "      <th>75%</th>\n",
       "      <td>33.000000</td>\n",
       "    </tr>\n",
       "    <tr>\n",
       "      <th>max</th>\n",
       "      <td>7411.000000</td>\n",
       "    </tr>\n",
       "  </tbody>\n",
       "</table>\n",
       "</div>"
      ],
      "text/plain": [
       "         total_words\n",
       "count  186934.000000\n",
       "mean       44.850878\n",
       "std       102.317362\n",
       "min         2.000000\n",
       "25%        13.000000\n",
       "50%        18.000000\n",
       "75%        33.000000\n",
       "max      7411.000000"
      ]
     },
     "execution_count": 174,
     "metadata": {},
     "output_type": "execute_result"
    }
   ],
   "source": [
    "pd.DataFrame(df['total_words'].describe())"
   ]
  },
  {
   "cell_type": "markdown",
   "metadata": {},
   "source": [
    "Relations with the dependent variable - Numerical features:"
   ]
  },
  {
   "cell_type": "code",
   "execution_count": 175,
   "metadata": {},
   "outputs": [
    {
     "data": {
      "text/html": [
       "<div>\n",
       "<style scoped>\n",
       "    .dataframe tbody tr th:only-of-type {\n",
       "        vertical-align: middle;\n",
       "    }\n",
       "\n",
       "    .dataframe tbody tr th {\n",
       "        vertical-align: top;\n",
       "    }\n",
       "\n",
       "    .dataframe thead th {\n",
       "        text-align: right;\n",
       "    }\n",
       "</style>\n",
       "<table border=\"1\" class=\"dataframe\">\n",
       "  <thead>\n",
       "    <tr style=\"text-align: right;\">\n",
       "      <th></th>\n",
       "      <th>score</th>\n",
       "      <th>body_len</th>\n",
       "      <th>title_len</th>\n",
       "      <th>total_len</th>\n",
       "      <th>body_words</th>\n",
       "      <th>title_words</th>\n",
       "      <th>total_words</th>\n",
       "    </tr>\n",
       "  </thead>\n",
       "  <tbody>\n",
       "    <tr>\n",
       "      <th>score</th>\n",
       "      <td>1.000000</td>\n",
       "      <td>0.093032</td>\n",
       "      <td>0.002302</td>\n",
       "      <td>0.093411</td>\n",
       "      <td>0.093091</td>\n",
       "      <td>0.004474</td>\n",
       "      <td>0.093591</td>\n",
       "    </tr>\n",
       "    <tr>\n",
       "      <th>body_len</th>\n",
       "      <td>0.093032</td>\n",
       "      <td>1.000000</td>\n",
       "      <td>-0.094764</td>\n",
       "      <td>0.999160</td>\n",
       "      <td>0.990107</td>\n",
       "      <td>-0.096771</td>\n",
       "      <td>0.989160</td>\n",
       "    </tr>\n",
       "    <tr>\n",
       "      <th>title_len</th>\n",
       "      <td>0.002302</td>\n",
       "      <td>-0.094764</td>\n",
       "      <td>1.000000</td>\n",
       "      <td>-0.053895</td>\n",
       "      <td>-0.096619</td>\n",
       "      <td>0.959462</td>\n",
       "      <td>-0.055299</td>\n",
       "    </tr>\n",
       "    <tr>\n",
       "      <th>total_len</th>\n",
       "      <td>0.093411</td>\n",
       "      <td>0.999160</td>\n",
       "      <td>-0.053895</td>\n",
       "      <td>1.000000</td>\n",
       "      <td>0.989160</td>\n",
       "      <td>-0.057577</td>\n",
       "      <td>0.989912</td>\n",
       "    </tr>\n",
       "    <tr>\n",
       "      <th>body_words</th>\n",
       "      <td>0.093091</td>\n",
       "      <td>0.990107</td>\n",
       "      <td>-0.096619</td>\n",
       "      <td>0.989160</td>\n",
       "      <td>1.000000</td>\n",
       "      <td>-0.097220</td>\n",
       "      <td>0.999067</td>\n",
       "    </tr>\n",
       "    <tr>\n",
       "      <th>title_words</th>\n",
       "      <td>0.004474</td>\n",
       "      <td>-0.096771</td>\n",
       "      <td>0.959462</td>\n",
       "      <td>-0.057577</td>\n",
       "      <td>-0.097220</td>\n",
       "      <td>1.000000</td>\n",
       "      <td>-0.054143</td>\n",
       "    </tr>\n",
       "    <tr>\n",
       "      <th>total_words</th>\n",
       "      <td>0.093591</td>\n",
       "      <td>0.989160</td>\n",
       "      <td>-0.055299</td>\n",
       "      <td>0.989912</td>\n",
       "      <td>0.999067</td>\n",
       "      <td>-0.054143</td>\n",
       "      <td>1.000000</td>\n",
       "    </tr>\n",
       "  </tbody>\n",
       "</table>\n",
       "</div>"
      ],
      "text/plain": [
       "                score  body_len  title_len  total_len  body_words  \\\n",
       "score        1.000000  0.093032   0.002302   0.093411    0.093091   \n",
       "body_len     0.093032  1.000000  -0.094764   0.999160    0.990107   \n",
       "title_len    0.002302 -0.094764   1.000000  -0.053895   -0.096619   \n",
       "total_len    0.093411  0.999160  -0.053895   1.000000    0.989160   \n",
       "body_words   0.093091  0.990107  -0.096619   0.989160    1.000000   \n",
       "title_words  0.004474 -0.096771   0.959462  -0.057577   -0.097220   \n",
       "total_words  0.093591  0.989160  -0.055299   0.989912    0.999067   \n",
       "\n",
       "             title_words  total_words  \n",
       "score           0.004474     0.093591  \n",
       "body_len       -0.096771     0.989160  \n",
       "title_len       0.959462    -0.055299  \n",
       "total_len      -0.057577     0.989912  \n",
       "body_words     -0.097220     0.999067  \n",
       "title_words     1.000000    -0.054143  \n",
       "total_words    -0.054143     1.000000  "
      ]
     },
     "execution_count": 175,
     "metadata": {},
     "output_type": "execute_result"
    }
   ],
   "source": [
    "df.corr()"
   ]
  },
  {
   "cell_type": "code",
   "execution_count": 176,
   "metadata": {},
   "outputs": [
    {
     "data": {
      "image/png": "[encoded data removed]",
      "text/plain": [
       "<Figure size 432x288 with 2 Axes>"
      ]
     },
     "metadata": {
      "needs_background": "light"
     },
     "output_type": "display_data"
    }
   ],
   "source": [
    "f = plt.figure();\n",
    "ax = sns.heatmap(df.corr(), annot=True, fmt=\".2f\")"
   ]
  },
  {
   "cell_type": "markdown",
   "metadata": {},
   "source": [
    "#### Redundant features removal"
   ]
  },
  {
   "cell_type": "code",
   "execution_count": 177,
   "metadata": {},
   "outputs": [
    {
     "data": {
      "text/plain": [
       "(186934, 10)"
      ]
     },
     "execution_count": 177,
     "metadata": {},
     "output_type": "execute_result"
    }
   ],
   "source": [
    "df.shape"
   ]
  },
  {
   "cell_type": "code",
   "execution_count": 178,
   "metadata": {},
   "outputs": [
    {
     "data": {
      "text/plain": [
       "(125373, 11)"
      ]
     },
     "execution_count": 178,
     "metadata": {},
     "output_type": "execute_result"
    }
   ],
   "source": [
    "df = df[df.score > 0].reset_index()\n",
    "df.shape"
   ]
  },
  {
   "cell_type": "code",
   "execution_count": 179,
   "metadata": {},
   "outputs": [
    {
     "data": {
      "text/plain": [
       "(124774, 12)"
      ]
     },
     "execution_count": 179,
     "metadata": {},
     "output_type": "execute_result"
    }
   ],
   "source": [
    "df = df[df.total_words > 5].reset_index()\n",
    "df.shape"
   ]
  },
  {
   "cell_type": "markdown",
   "metadata": {},
   "source": [
    "Create 'joke' column and remove unnecessary columns:"
   ]
  },
  {
   "cell_type": "code",
   "execution_count": 180,
   "metadata": {},
   "outputs": [
    {
     "data": {
      "text/html": [
       "<div>\n",
       "<style scoped>\n",
       "    .dataframe tbody tr th:only-of-type {\n",
       "        vertical-align: middle;\n",
       "    }\n",
       "\n",
       "    .dataframe tbody tr th {\n",
       "        vertical-align: top;\n",
       "    }\n",
       "\n",
       "    .dataframe thead th {\n",
       "        text-align: right;\n",
       "    }\n",
       "</style>\n",
       "<table border=\"1\" class=\"dataframe\">\n",
       "  <thead>\n",
       "    <tr style=\"text-align: right;\">\n",
       "      <th></th>\n",
       "      <th>level_0</th>\n",
       "      <th>index</th>\n",
       "      <th>body</th>\n",
       "      <th>id</th>\n",
       "      <th>score</th>\n",
       "      <th>title</th>\n",
       "      <th>body_len</th>\n",
       "      <th>title_len</th>\n",
       "      <th>total_len</th>\n",
       "      <th>body_words</th>\n",
       "      <th>title_words</th>\n",
       "      <th>total_words</th>\n",
       "    </tr>\n",
       "  </thead>\n",
       "  <tbody>\n",
       "    <tr>\n",
       "      <th>0</th>\n",
       "      <td>0</td>\n",
       "      <td>0</td>\n",
       "      <td>Now I have to say \"Leroy can you please paint ...</td>\n",
       "      <td>5tz52q</td>\n",
       "      <td>1</td>\n",
       "      <td>I hate how you cant even say black paint anymore</td>\n",
       "      <td>57</td>\n",
       "      <td>48</td>\n",
       "      <td>105</td>\n",
       "      <td>12</td>\n",
       "      <td>10</td>\n",
       "      <td>22</td>\n",
       "    </tr>\n",
       "    <tr>\n",
       "      <th>1</th>\n",
       "      <td>1</td>\n",
       "      <td>3</td>\n",
       "      <td>A Sunday school teacher is concerned that his ...</td>\n",
       "      <td>5tz2wj</td>\n",
       "      <td>1</td>\n",
       "      <td>Brian raises his hand and says, “He’s in Heaven.”</td>\n",
       "      <td>528</td>\n",
       "      <td>49</td>\n",
       "      <td>577</td>\n",
       "      <td>87</td>\n",
       "      <td>9</td>\n",
       "      <td>96</td>\n",
       "    </tr>\n",
       "    <tr>\n",
       "      <th>2</th>\n",
       "      <td>2</td>\n",
       "      <td>7</td>\n",
       "      <td>Apparently \"Whatever's low in cholesterol\" was...</td>\n",
       "      <td>5tz04j</td>\n",
       "      <td>1</td>\n",
       "      <td>I walked into a PETA adoption center and the r...</td>\n",
       "      <td>68</td>\n",
       "      <td>92</td>\n",
       "      <td>160</td>\n",
       "      <td>10</td>\n",
       "      <td>18</td>\n",
       "      <td>28</td>\n",
       "    </tr>\n",
       "    <tr>\n",
       "      <th>3</th>\n",
       "      <td>3</td>\n",
       "      <td>10</td>\n",
       "      <td>I always thought they were gunna hit me, not t...</td>\n",
       "      <td>5tyzxh</td>\n",
       "      <td>15</td>\n",
       "      <td>Remember when you were a kid and when you crie...</td>\n",
       "      <td>111</td>\n",
       "      <td>99</td>\n",
       "      <td>210</td>\n",
       "      <td>21</td>\n",
       "      <td>20</td>\n",
       "      <td>41</td>\n",
       "    </tr>\n",
       "    <tr>\n",
       "      <th>4</th>\n",
       "      <td>4</td>\n",
       "      <td>13</td>\n",
       "      <td>I said, \"I'm not sure; it's hard to keep track.\"</td>\n",
       "      <td>5tyytx</td>\n",
       "      <td>3</td>\n",
       "      <td>My boss said to me, \"you're the worst train dr...</td>\n",
       "      <td>48</td>\n",
       "      <td>95</td>\n",
       "      <td>143</td>\n",
       "      <td>10</td>\n",
       "      <td>18</td>\n",
       "      <td>28</td>\n",
       "    </tr>\n",
       "    <tr>\n",
       "      <th>...</th>\n",
       "      <td>...</td>\n",
       "      <td>...</td>\n",
       "      <td>...</td>\n",
       "      <td>...</td>\n",
       "      <td>...</td>\n",
       "      <td>...</td>\n",
       "      <td>...</td>\n",
       "      <td>...</td>\n",
       "      <td>...</td>\n",
       "      <td>...</td>\n",
       "      <td>...</td>\n",
       "      <td>...</td>\n",
       "    </tr>\n",
       "    <tr>\n",
       "      <th>124769</th>\n",
       "      <td>125368</td>\n",
       "      <td>194547</td>\n",
       "      <td>Just this morning she said, \"Daddy, is that th...</td>\n",
       "      <td>1a8a5r</td>\n",
       "      <td>123</td>\n",
       "      <td>My daughter has reached that age where she's a...</td>\n",
       "      <td>70</td>\n",
       "      <td>84</td>\n",
       "      <td>154</td>\n",
       "      <td>14</td>\n",
       "      <td>13</td>\n",
       "      <td>27</td>\n",
       "    </tr>\n",
       "    <tr>\n",
       "      <th>124770</th>\n",
       "      <td>125369</td>\n",
       "      <td>194548</td>\n",
       "      <td>Gives me something to read while i'm in the sh...</td>\n",
       "      <td>1a89ts</td>\n",
       "      <td>5</td>\n",
       "      <td>I like a girl with words tattooed on her back.</td>\n",
       "      <td>52</td>\n",
       "      <td>46</td>\n",
       "      <td>98</td>\n",
       "      <td>10</td>\n",
       "      <td>10</td>\n",
       "      <td>20</td>\n",
       "    </tr>\n",
       "    <tr>\n",
       "      <th>124771</th>\n",
       "      <td>125370</td>\n",
       "      <td>194549</td>\n",
       "      <td>I mean dyslexia fcuk!!! &gt;_&lt;</td>\n",
       "      <td>1a87we</td>\n",
       "      <td>12</td>\n",
       "      <td>I have sexdaily...</td>\n",
       "      <td>27</td>\n",
       "      <td>18</td>\n",
       "      <td>45</td>\n",
       "      <td>5</td>\n",
       "      <td>3</td>\n",
       "      <td>8</td>\n",
       "    </tr>\n",
       "    <tr>\n",
       "      <th>124772</th>\n",
       "      <td>125371</td>\n",
       "      <td>194550</td>\n",
       "      <td>A hockey player showers after three periods.</td>\n",
       "      <td>1a7xnd</td>\n",
       "      <td>44</td>\n",
       "      <td>What's the difference between a hippie chick a...</td>\n",
       "      <td>44</td>\n",
       "      <td>65</td>\n",
       "      <td>109</td>\n",
       "      <td>7</td>\n",
       "      <td>11</td>\n",
       "      <td>18</td>\n",
       "    </tr>\n",
       "    <tr>\n",
       "      <th>124773</th>\n",
       "      <td>125372</td>\n",
       "      <td>194551</td>\n",
       "      <td>A father buys a lie detector robot that slaps ...</td>\n",
       "      <td>1a813f</td>\n",
       "      <td>63</td>\n",
       "      <td>new family robot</td>\n",
       "      <td>616</td>\n",
       "      <td>16</td>\n",
       "      <td>632</td>\n",
       "      <td>104</td>\n",
       "      <td>3</td>\n",
       "      <td>107</td>\n",
       "    </tr>\n",
       "  </tbody>\n",
       "</table>\n",
       "<p>124774 rows × 12 columns</p>\n",
       "</div>"
      ],
      "text/plain": [
       "        level_0   index                                               body  \\\n",
       "0             0       0  Now I have to say \"Leroy can you please paint ...   \n",
       "1             1       3  A Sunday school teacher is concerned that his ...   \n",
       "2             2       7  Apparently \"Whatever's low in cholesterol\" was...   \n",
       "3             3      10  I always thought they were gunna hit me, not t...   \n",
       "4             4      13   I said, \"I'm not sure; it's hard to keep track.\"   \n",
       "...         ...     ...                                                ...   \n",
       "124769   125368  194547  Just this morning she said, \"Daddy, is that th...   \n",
       "124770   125369  194548  Gives me something to read while i'm in the sh...   \n",
       "124771   125370  194549                        I mean dyslexia fcuk!!! >_<   \n",
       "124772   125371  194550       A hockey player showers after three periods.   \n",
       "124773   125372  194551  A father buys a lie detector robot that slaps ...   \n",
       "\n",
       "            id  score                                              title  \\\n",
       "0       5tz52q      1   I hate how you cant even say black paint anymore   \n",
       "1       5tz2wj      1  Brian raises his hand and says, “He’s in Heaven.”   \n",
       "2       5tz04j      1  I walked into a PETA adoption center and the r...   \n",
       "3       5tyzxh     15  Remember when you were a kid and when you crie...   \n",
       "4       5tyytx      3  My boss said to me, \"you're the worst train dr...   \n",
       "...        ...    ...                                                ...   \n",
       "124769  1a8a5r    123  My daughter has reached that age where she's a...   \n",
       "124770  1a89ts      5     I like a girl with words tattooed on her back.   \n",
       "124771  1a87we     12                                 I have sexdaily...   \n",
       "124772  1a7xnd     44  What's the difference between a hippie chick a...   \n",
       "124773  1a813f     63                                   new family robot   \n",
       "\n",
       "        body_len  title_len  total_len  body_words  title_words  total_words  \n",
       "0             57         48        105          12           10           22  \n",
       "1            528         49        577          87            9           96  \n",
       "2             68         92        160          10           18           28  \n",
       "3            111         99        210          21           20           41  \n",
       "4             48         95        143          10           18           28  \n",
       "...          ...        ...        ...         ...          ...          ...  \n",
       "124769        70         84        154          14           13           27  \n",
       "124770        52         46         98          10           10           20  \n",
       "124771        27         18         45           5            3            8  \n",
       "124772        44         65        109           7           11           18  \n",
       "124773       616         16        632         104            3          107  \n",
       "\n",
       "[124774 rows x 12 columns]"
      ]
     },
     "execution_count": 180,
     "metadata": {},
     "output_type": "execute_result"
    }
   ],
   "source": [
    "df"
   ]
  },
  {
   "cell_type": "code",
   "execution_count": 181,
   "metadata": {},
   "outputs": [],
   "source": [
    "df['joke'] = df['title'] +'. '+ df['body']"
   ]
  },
  {
   "cell_type": "code",
   "execution_count": 182,
   "metadata": {},
   "outputs": [],
   "source": [
    "df = df.loc[:,['joke','score']]"
   ]
  },
  {
   "cell_type": "markdown",
   "metadata": {},
   "source": [
    "#### Pre-process text"
   ]
  },
  {
   "cell_type": "markdown",
   "metadata": {},
   "source": [
    "Pre-process text:\n",
    "- Remove punctuation\n",
    "- Replace escape characters\n",
    "- Remove extra spaces\n",
    "- Remove single characters\n",
    "- Remove prefixed 'b'\n",
    "- Lowercase all characters\n",
    "- Lemmatization"
   ]
  },
  {
   "cell_type": "code",
   "execution_count": 183,
   "metadata": {},
   "outputs": [],
   "source": [
    "def replace_non_eng_punct(txt):\n",
    "    return re.sub(r'/[^a-zA-Z0-9\\s,.?!]/','*',txt).strip()"
   ]
  },
  {
   "cell_type": "code",
   "execution_count": 184,
   "metadata": {},
   "outputs": [],
   "source": [
    "# def remove_url(txt):\n",
    "#     return re.sub(r'https?:\\/\\/(?:www\\.|(?!www))[a-zA-Z0-9][a-zA-Z0-9-]+[a-zA-Z0-9]\\.[^\\s]{2,}|www\\.[a-zA-Z0-9][a-zA-Z0-9-]+[a-zA-Z0-9]\\.[^\\s]{2,}|https?:\\/\\/(?:www\\.|(?!www))[a-zA-Z0-9]+\\.[^\\s]{2,}|www\\.[a-zA-Z0-9]+\\.[^\\s]{2,}','',txt)"
   ]
  },
  {
   "cell_type": "code",
   "execution_count": 185,
   "metadata": {},
   "outputs": [],
   "source": [
    "def replace_escape(txt):\n",
    "    updated_txt = re.sub(r'\\n|\\t|&amp;',' ',txt)\n",
    "    return updated_txt.strip()"
   ]
  },
  {
   "cell_type": "code",
   "execution_count": 186,
   "metadata": {},
   "outputs": [],
   "source": [
    "def remove_multi_spaces(txt):\n",
    "    return re.sub(' +', ' ',txt)"
   ]
  },
  {
   "cell_type": "code",
   "execution_count": 187,
   "metadata": {},
   "outputs": [],
   "source": [
    "import re\n",
    "from nltk.stem import WordNetLemmatizer\n",
    "\n",
    "stemmer = WordNetLemmatizer()\n",
    "\n",
    "def preprocess_text(document):\n",
    "#         # Remove all the special characters\n",
    "        document = re.sub(r'\\W', ' ', str(document))\n",
    "\n",
    "#         # remove all single characters\n",
    "        document = re.sub(r'\\s+[a-zA-Z]\\s+', ' ', document)\n",
    "\n",
    "#         # Remove single characters from the start\n",
    "        document = re.sub(r'\\^[a-zA-Z]\\s+', ' ', document)\n",
    "\n",
    "        # Substituting multiple spaces with single space\n",
    "        document = re.sub(r'\\s+', ' ', document, flags=re.I)\n",
    "\n",
    "        # Removing prefixed 'b'\n",
    "        document = re.sub(r'^b\\s+', '', document)\n",
    "\n",
    "        # Converting to Lowercase\n",
    "        document = document.lower()\n",
    "\n",
    "        # Lemmatization\n",
    "        tokens = document.split()\n",
    "        tokens = [stemmer.lemmatize(word) for word in tokens]\n",
    "        tokens = [word for word in tokens if word not in en_stop]\n",
    "        tokens = [word for word in tokens if len(word) > 3]\n",
    "\n",
    "        preprocessed_text = ' '.join(tokens)\n",
    "\n",
    "        return preprocessed_text"
   ]
  },
  {
   "cell_type": "code",
   "execution_count": 188,
   "metadata": {},
   "outputs": [],
   "source": [
    "df['joke'] = df['joke'].apply(replace_non_eng_punct).apply(remove_multi_spaces)"
   ]
  },
  {
   "cell_type": "code",
   "execution_count": 189,
   "metadata": {},
   "outputs": [],
   "source": [
    "df['joke_preprocessed'] = df['joke'].apply(preprocess_text)"
   ]
  },
  {
   "cell_type": "markdown",
   "metadata": {},
   "source": [
    "Sample before/after preprocessing:"
   ]
  },
  {
   "cell_type": "code",
   "execution_count": 190,
   "metadata": {},
   "outputs": [
    {
     "data": {
      "text/plain": [
       "'When You Break Up At 11:59 Tonight. And save $300 instantly.'"
      ]
     },
     "execution_count": 190,
     "metadata": {},
     "output_type": "execute_result"
    }
   ],
   "source": [
    "df['joke'][12]"
   ]
  },
  {
   "cell_type": "code",
   "execution_count": 191,
   "metadata": {
    "scrolled": true
   },
   "outputs": [
    {
     "data": {
      "text/plain": [
       "'brian raise hand heaven sunday school teacher concerned student might little confused jesus asks class jesus today brian raise hand heaven susan answer heart little johnny wave hand furiously blurts bathroom teacher surprised answer asks little johnny know well little johnny every morning bang bathroom door yell jesus christ still'"
      ]
     },
     "execution_count": 191,
     "metadata": {},
     "output_type": "execute_result"
    }
   ],
   "source": [
    "df['joke_preprocessed'][1]"
   ]
  },
  {
   "cell_type": "markdown",
   "metadata": {},
   "source": [
    "Create joke tokens list:"
   ]
  },
  {
   "cell_type": "code",
   "execution_count": 192,
   "metadata": {},
   "outputs": [],
   "source": [
    "def split_punct(txt):\n",
    "    return re.split(r'(\\W)',txt)"
   ]
  },
  {
   "cell_type": "code",
   "execution_count": 193,
   "metadata": {},
   "outputs": [],
   "source": [
    "df['joke_tokens'] = df['joke_preprocessed'].apply(split_punct)"
   ]
  },
  {
   "cell_type": "code",
   "execution_count": 194,
   "metadata": {},
   "outputs": [],
   "source": [
    "def remove_spaces(lst):\n",
    "    return [x for x in lst if (x != ' ') and (x != '')]"
   ]
  },
  {
   "cell_type": "code",
   "execution_count": 195,
   "metadata": {},
   "outputs": [],
   "source": [
    "df['joke_tokens'] = df['joke_tokens'].apply(remove_spaces)"
   ]
  },
  {
   "cell_type": "markdown",
   "metadata": {},
   "source": [
    "#### Feature engineering"
   ]
  },
  {
   "cell_type": "markdown",
   "metadata": {},
   "source": [
    "Train/test split:"
   ]
  },
  {
   "cell_type": "code",
   "execution_count": 196,
   "metadata": {},
   "outputs": [],
   "source": [
    "target_col = 'score'\n",
    "tokens_col = 'joke_preprocessed'\n",
    "X = df[tokens_col].to_numpy()\n",
    "y = df[target_col].to_numpy()"
   ]
  },
  {
   "cell_type": "code",
   "execution_count": 197,
   "metadata": {},
   "outputs": [],
   "source": [
    "X_train, X_test, y_train, y_test = train_test_split(X, y, test_size=0.20, \\\n",
    "                                                    random_state=42)"
   ]
  },
  {
   "cell_type": "markdown",
   "metadata": {},
   "source": [
    "Feature scaling:"
   ]
  },
  {
   "cell_type": "code",
   "execution_count": 198,
   "metadata": {},
   "outputs": [],
   "source": [
    "scaler = StandardScaler()\n",
    "scaler.fit(y_train.reshape(-1,1))\n",
    "y_train = scaler.transform(y_train.reshape(-1,1)).reshape(-1,)\n",
    "y_test = scaler.transform(y_test.reshape(-1,1)).reshape(-1,)"
   ]
  },
  {
   "cell_type": "markdown",
   "metadata": {},
   "source": [
    "Generate vocabulary:"
   ]
  },
  {
   "cell_type": "code",
   "execution_count": 199,
   "metadata": {},
   "outputs": [],
   "source": [
    "cnt2 = Counter()\n",
    "for j in df['joke']:\n",
    "    for w in j.split(' '):\n",
    "        cnt2[w] += 1"
   ]
  },
  {
   "cell_type": "code",
   "execution_count": 200,
   "metadata": {},
   "outputs": [
    {
     "data": {
      "text/plain": [
       "4944"
      ]
     },
     "execution_count": 200,
     "metadata": {},
     "output_type": "execute_result"
    }
   ],
   "source": [
    "(np.array(list(cnt.values()))>55).sum()"
   ]
  },
  {
   "cell_type": "code",
   "execution_count": 201,
   "metadata": {
    "scrolled": true
   },
   "outputs": [
    {
     "name": "stdout",
     "output_type": "stream",
     "text": [
      "Total amount of words before pre-processing: 6,217,991\n",
      "Total amount of words after pre-processing: 2,586,238\n",
      "Vocabulary size before pre-processing: 350,133\n",
      "Vocabulary size after pre-processing: 53,170\n"
     ]
    }
   ],
   "source": [
    "print(f'Total amount of words before pre-processing: {sum(cnt2.values()):,}')\n",
    "print(f'Total amount of words after pre-processing: {sum(cnt.values()):,}')\n",
    "print(f'Vocabulary size before pre-processing: {len(cnt2.keys()):,}')\n",
    "print(f'Vocabulary size after pre-processing: {len(cnt.keys()):,}')"
   ]
  },
  {
   "cell_type": "code",
   "execution_count": 202,
   "metadata": {},
   "outputs": [
    {
     "data": {
      "image/png": "[encoded data removed]",
      "text/plain": [
       "<Figure size 432x288 with 1 Axes>"
      ]
     },
     "metadata": {
      "needs_background": "light"
     },
     "output_type": "display_data"
    }
   ],
   "source": [
    "\n",
    "ax = sns.distplot(list(cnt2.values()));\n",
    "ax.set_title(f'Vocabulary Density - After Preprocssing');\n",
    "ax.set_ylabel('Density value');\n",
    "plt.show();"
   ]
  },
  {
   "cell_type": "code",
   "execution_count": 203,
   "metadata": {},
   "outputs": [
    {
     "data": {
      "text/plain": [
       "350133"
      ]
     },
     "execution_count": 203,
     "metadata": {},
     "output_type": "execute_result"
    }
   ],
   "source": [
    "len(cnt2.keys())"
   ]
  },
  {
   "cell_type": "code",
   "execution_count": 204,
   "metadata": {},
   "outputs": [
    {
     "data": {
      "text/plain": [
       "53170"
      ]
     },
     "execution_count": 204,
     "metadata": {},
     "output_type": "execute_result"
    }
   ],
   "source": [
    "len(cnt.keys())"
   ]
  },
  {
   "cell_type": "code",
   "execution_count": 205,
   "metadata": {},
   "outputs": [],
   "source": [
    "cnt = Counter()\n",
    "for s in df['joke_tokens']:\n",
    "    for w in s:\n",
    "        cnt[w] += 1"
   ]
  },
  {
   "cell_type": "code",
   "execution_count": 206,
   "metadata": {},
   "outputs": [],
   "source": [
    "vocab2 = cnt.most_common(5000)\n",
    "vocab2 = [i[0] for i in vocab2]"
   ]
  },
  {
   "cell_type": "markdown",
   "metadata": {},
   "source": [
    "Generate TFIDF/CountVectorizer features:"
   ]
  },
  {
   "cell_type": "code",
   "execution_count": 207,
   "metadata": {},
   "outputs": [],
   "source": [
    "concat_filter_vec2 = np.vectorize(lambda x: ' '.join([i for i in x.split(' ') if i in vocab2]))"
   ]
  },
  {
   "cell_type": "code",
   "execution_count": 208,
   "metadata": {},
   "outputs": [
    {
     "data": {
      "text/plain": [
       "124774"
      ]
     },
     "execution_count": 208,
     "metadata": {},
     "output_type": "execute_result"
    }
   ],
   "source": [
    "X_train.shape[0] + X_test.shape[0]"
   ]
  },
  {
   "cell_type": "code",
   "execution_count": 209,
   "metadata": {},
   "outputs": [],
   "source": [
    "X_train = concat_filter_vec2(X_train)\n",
    "X_test = concat_filter_vec2(X_test)"
   ]
  },
  {
   "cell_type": "code",
   "execution_count": 210,
   "metadata": {},
   "outputs": [
    {
     "data": {
      "text/plain": [
       "'planned year hearing thought'"
      ]
     },
     "execution_count": 210,
     "metadata": {},
     "output_type": "execute_result"
    }
   ],
   "source": [
    "X_train[6]"
   ]
  },
  {
   "cell_type": "code",
   "execution_count": 234,
   "metadata": {},
   "outputs": [
    {
     "data": {
      "text/plain": [
       "(24955, 4997)"
      ]
     },
     "execution_count": 234,
     "metadata": {},
     "output_type": "execute_result"
    }
   ],
   "source": [
    "X_test_count.shape"
   ]
  },
  {
   "cell_type": "code",
   "execution_count": 216,
   "metadata": {},
   "outputs": [],
   "source": [
    "vectorizer_tf = TfidfVectorizer()\n",
    "X_train_tf = vectorizer_tf.fit_transform(X_train).toarray()\n",
    "X_test_tf = vectorizer_tf.transform(X_test).toarray()"
   ]
  },
  {
   "cell_type": "code",
   "execution_count": 217,
   "metadata": {},
   "outputs": [],
   "source": [
    "c = CountVectorizer()\n",
    "X_train_count = c.fit_transform(X_train).toarray()\n",
    "X_test_count = c.fit_transform(X_test).toarray()"
   ]
  },
  {
   "cell_type": "code",
   "execution_count": 270,
   "metadata": {},
   "outputs": [],
   "source": [
    "b = np.zeros((X_test_count.shape[0],2))"
   ]
  },
  {
   "cell_type": "code",
   "execution_count": 271,
   "metadata": {},
   "outputs": [
    {
     "data": {
      "text/plain": [
       "(24955, 4997)"
      ]
     },
     "execution_count": 271,
     "metadata": {},
     "output_type": "execute_result"
    }
   ],
   "source": [
    "X_test_count.shape"
   ]
  },
  {
   "cell_type": "code",
   "execution_count": 272,
   "metadata": {},
   "outputs": [
    {
     "data": {
      "text/plain": [
       "(24955, 2)"
      ]
     },
     "execution_count": 272,
     "metadata": {},
     "output_type": "execute_result"
    }
   ],
   "source": [
    "b.shape"
   ]
  },
  {
   "cell_type": "code",
   "execution_count": 276,
   "metadata": {},
   "outputs": [],
   "source": [
    "X_test_count = np.hstack((X_test_count,b))"
   ]
  },
  {
   "cell_type": "code",
   "execution_count": 218,
   "metadata": {},
   "outputs": [
    {
     "data": {
      "text/plain": [
       "(24955, 4997)"
      ]
     },
     "execution_count": 218,
     "metadata": {},
     "output_type": "execute_result"
    }
   ],
   "source": [
    "X_test_count.shape"
   ]
  },
  {
   "cell_type": "code",
   "execution_count": 219,
   "metadata": {},
   "outputs": [
    {
     "data": {
      "text/plain": [
       "(99819, 4999)"
      ]
     },
     "execution_count": 219,
     "metadata": {},
     "output_type": "execute_result"
    }
   ],
   "source": [
    "X_train_count.shape"
   ]
  },
  {
   "cell_type": "code",
   "execution_count": 120,
   "metadata": {},
   "outputs": [],
   "source": [
    "from keras.models import Model, Sequential\n",
    "from keras.layers import Activation, Dense, LSTM, Embedding, TimeDistributed, recurrent\n",
    "from keras.utils import to_categorical\n",
    "from keras.preprocessing.sequence import pad_sequences\n",
    "from keras.models import Sequential\n",
    "from keras.layers import Dense\n",
    "from keras.wrappers.scikit_learn import KerasRegressor\n",
    "from sklearn.ensemble import AdaBoostClassifier, RandomForestClassifier\n",
    "from sklearn.model_selection import cross_val_score\n",
    "from sklearn.linear_model import Ridge\n",
    "from sklearn.model_selection import KFold\n",
    "from sklearn.pipeline import Pipeline\n",
    "from sklearn.metrics import mean_squared_error, r2_score\n",
    "from keras import regularizers"
   ]
  },
  {
   "cell_type": "markdown",
   "metadata": {},
   "source": [
    "#### Modeling"
   ]
  },
  {
   "cell_type": "markdown",
   "metadata": {},
   "source": [
    "Train Neural network"
   ]
  },
  {
   "cell_type": "code",
   "execution_count": 281,
   "metadata": {},
   "outputs": [],
   "source": [
    "# Neural network\n",
    "model = Sequential()\n",
    "model.add(Dense(128, input_dim=4999, activation='relu',kernel_regularizer=regularizers.l2(0.01),\n",
    "                activity_regularizer=regularizers.l1(0.01)))\n",
    "model.add(Dense(128, activation='relu',kernel_regularizer=regularizers.l2(0.01),\n",
    "                activity_regularizer=regularizers.l1(0.01)))\n",
    "model.add(Dense(128, activation='relu',kernel_regularizer=regularizers.l2(0.01),\n",
    "                activity_regularizer=regularizers.l1(0.01)))\n",
    "model.add(Dense(1,kernel_regularizer=regularizers.l2(0.01),\n",
    "                activity_regularizer=regularizers.l1(0.01)))"
   ]
  },
  {
   "cell_type": "code",
   "execution_count": 282,
   "metadata": {},
   "outputs": [
    {
     "name": "stdout",
     "output_type": "stream",
     "text": [
      "_________________________________________________________________\n",
      "Layer (type)                 Output Shape              Param #   \n",
      "=================================================================\n",
      "dense_17 (Dense)             (None, 128)               640000    \n",
      "_________________________________________________________________\n",
      "dense_18 (Dense)             (None, 128)               16512     \n",
      "_________________________________________________________________\n",
      "dense_19 (Dense)             (None, 128)               16512     \n",
      "_________________________________________________________________\n",
      "dense_20 (Dense)             (None, 1)                 129       \n",
      "=================================================================\n",
      "Total params: 673,153\n",
      "Trainable params: 673,153\n",
      "Non-trainable params: 0\n",
      "_________________________________________________________________\n"
     ]
    }
   ],
   "source": [
    "model.summary()"
   ]
  },
  {
   "cell_type": "code",
   "execution_count": 283,
   "metadata": {},
   "outputs": [],
   "source": [
    "model.compile(loss='mean_squared_error', optimizer='sgd', metrics=['mse'])"
   ]
  },
  {
   "cell_type": "code",
   "execution_count": 284,
   "metadata": {},
   "outputs": [
    {
     "name": "stdout",
     "output_type": "stream",
     "text": [
      "Train on 79855 samples, validate on 19964 samples\n",
      "Epoch 1/40\n",
      "79855/79855 [==============================] - 10s 129us/step - loss: 6.0338 - mean_squared_error: 1.0041 - val_loss: 5.3357 - val_mean_squared_error: 0.9838\n",
      "Epoch 2/40\n",
      "79855/79855 [==============================] - 8s 102us/step - loss: 5.0028 - mean_squared_error: 1.0041 - val_loss: 4.6553 - val_mean_squared_error: 0.9837\n",
      "Epoch 3/40\n",
      "79855/79855 [==============================] - 7s 90us/step - loss: 4.4030 - mean_squared_error: 1.0041 - val_loss: 4.1073 - val_mean_squared_error: 0.9837\n",
      "Epoch 4/40\n",
      "79855/79855 [==============================] - 8s 106us/step - loss: 3.9005 - mean_squared_error: 1.0044 - val_loss: 3.6585 - val_mean_squared_error: 0.9837\n",
      "Epoch 5/40\n",
      "79855/79855 [==============================] - 8s 96us/step - loss: 3.4734 - mean_squared_error: 1.0042 - val_loss: 3.2630 - val_mean_squared_error: 0.9838\n",
      "Epoch 6/40\n",
      "79855/79855 [==============================] - 7s 90us/step - loss: 3.1109 - mean_squared_error: 1.0042 - val_loss: 2.9129 - val_mean_squared_error: 0.9837\n",
      "Epoch 7/40\n",
      "79855/79855 [==============================] - 7s 92us/step - loss: 2.8020 - mean_squared_error: 1.0042 - val_loss: 2.6318 - val_mean_squared_error: 0.9837\n",
      "Epoch 8/40\n",
      "79855/79855 [==============================] - 8s 95us/step - loss: 2.5389 - mean_squared_error: 1.0042 - val_loss: 2.3864 - val_mean_squared_error: 0.9837\n",
      "Epoch 9/40\n",
      "79855/79855 [==============================] - 8s 94us/step - loss: 2.3150 - mean_squared_error: 1.0042 - val_loss: 2.1790 - val_mean_squared_error: 0.9837\n",
      "Epoch 10/40\n",
      "79855/79855 [==============================] - 8s 95us/step - loss: 2.1242 - mean_squared_error: 1.0042 - val_loss: 2.0231 - val_mean_squared_error: 0.9838\n",
      "Epoch 11/40\n",
      "79855/79855 [==============================] - 7s 94us/step - loss: 1.9615 - mean_squared_error: 1.0041 - val_loss: 1.8701 - val_mean_squared_error: 0.9838\n",
      "Epoch 12/40\n",
      "79855/79855 [==============================] - 9s 107us/step - loss: 1.8232 - mean_squared_error: 1.0042 - val_loss: 1.7296 - val_mean_squared_error: 0.9837\n",
      "Epoch 13/40\n",
      "79855/79855 [==============================] - 8s 103us/step - loss: 1.7049 - mean_squared_error: 1.0043 - val_loss: 1.6201 - val_mean_squared_error: 0.9837\n",
      "Epoch 14/40\n",
      "79855/79855 [==============================] - 8s 94us/step - loss: 1.6044 - mean_squared_error: 1.0043 - val_loss: 1.5345 - val_mean_squared_error: 0.9837\n",
      "Epoch 15/40\n",
      "79855/79855 [==============================] - 8s 96us/step - loss: 1.5183 - mean_squared_error: 1.0041 - val_loss: 1.4575 - val_mean_squared_error: 0.9837\n",
      "Epoch 16/40\n",
      "79855/79855 [==============================] - 8s 96us/step - loss: 1.4454 - mean_squared_error: 1.0042 - val_loss: 1.3902 - val_mean_squared_error: 0.9838\n",
      "Epoch 17/40\n",
      "79855/79855 [==============================] - 8s 95us/step - loss: 1.3829 - mean_squared_error: 1.0041 - val_loss: 1.3192 - val_mean_squared_error: 0.9837\n",
      "Epoch 18/40\n",
      "79855/79855 [==============================] - 8s 94us/step - loss: 1.3303 - mean_squared_error: 1.0043 - val_loss: 1.2699 - val_mean_squared_error: 0.9837\n",
      "Epoch 19/40\n",
      "79855/79855 [==============================] - 8s 96us/step - loss: 1.2851 - mean_squared_error: 1.0043 - val_loss: 1.2304 - val_mean_squared_error: 0.9837\n",
      "Epoch 20/40\n",
      "79855/79855 [==============================] - 8s 95us/step - loss: 1.2465 - mean_squared_error: 1.0042 - val_loss: 1.2119 - val_mean_squared_error: 0.9838\n",
      "Epoch 21/40\n",
      "79855/79855 [==============================] - 8s 97us/step - loss: 1.2137 - mean_squared_error: 1.0042 - val_loss: 1.1811 - val_mean_squared_error: 0.9838\n",
      "Epoch 22/40\n",
      "79855/79855 [==============================] - 8s 105us/step - loss: 1.1859 - mean_squared_error: 1.0044 - val_loss: 1.1701 - val_mean_squared_error: 0.9840\n",
      "Epoch 23/40\n",
      "79855/79855 [==============================] - 12s 152us/step - loss: 1.1619 - mean_squared_error: 1.0042 - val_loss: 1.1223 - val_mean_squared_error: 0.9837\n",
      "Epoch 24/40\n",
      "79855/79855 [==============================] - 7s 93us/step - loss: 1.1416 - mean_squared_error: 1.0043 - val_loss: 1.1037 - val_mean_squared_error: 0.9837\n",
      "Epoch 25/40\n",
      "79855/79855 [==============================] - 7s 94us/step - loss: 1.1245 - mean_squared_error: 1.0044 - val_loss: 1.0776 - val_mean_squared_error: 0.9837\n",
      "Epoch 26/40\n",
      "79855/79855 [==============================] - 8s 95us/step - loss: 1.1093 - mean_squared_error: 1.0041 - val_loss: 1.0743 - val_mean_squared_error: 0.9837\n",
      "Epoch 27/40\n",
      "79855/79855 [==============================] - 9s 116us/step - loss: 1.0969 - mean_squared_error: 1.0043 - val_loss: 1.0651 - val_mean_squared_error: 0.9837\n",
      "Epoch 28/40\n",
      "79855/79855 [==============================] - 9s 113us/step - loss: 1.0861 - mean_squared_error: 1.0042 - val_loss: 1.0548 - val_mean_squared_error: 0.9837\n",
      "Epoch 29/40\n",
      "79855/79855 [==============================] - 8s 98us/step - loss: 1.0770 - mean_squared_error: 1.0042 - val_loss: 1.0551 - val_mean_squared_error: 0.9838\n",
      "Epoch 30/40\n",
      "79855/79855 [==============================] - 8s 100us/step - loss: 1.0693 - mean_squared_error: 1.0043 - val_loss: 1.0339 - val_mean_squared_error: 0.9837\n",
      "Epoch 31/40\n",
      "79855/79855 [==============================] - 8s 97us/step - loss: 1.0627 - mean_squared_error: 1.0043 - val_loss: 1.0282 - val_mean_squared_error: 0.9837\n",
      "Epoch 32/40\n",
      "79855/79855 [==============================] - 8s 95us/step - loss: 1.0570 - mean_squared_error: 1.0042 - val_loss: 1.0186 - val_mean_squared_error: 0.9837\n",
      "Epoch 33/40\n",
      "79855/79855 [==============================] - 8s 95us/step - loss: 1.0520 - mean_squared_error: 1.0042 - val_loss: 1.0221 - val_mean_squared_error: 0.9837\n",
      "Epoch 34/40\n",
      "79855/79855 [==============================] - 8s 94us/step - loss: 1.0481 - mean_squared_error: 1.0042 - val_loss: 1.0197 - val_mean_squared_error: 0.9837\n",
      "Epoch 35/40\n",
      "79855/79855 [==============================] - 8s 97us/step - loss: 1.0447 - mean_squared_error: 1.0043 - val_loss: 1.0109 - val_mean_squared_error: 0.9837\n",
      "Epoch 36/40\n",
      "79855/79855 [==============================] - 8s 97us/step - loss: 1.0416 - mean_squared_error: 1.0042 - val_loss: 1.0059 - val_mean_squared_error: 0.9837\n",
      "Epoch 37/40\n",
      "79855/79855 [==============================] - 8s 102us/step - loss: 1.0388 - mean_squared_error: 1.0041 - val_loss: 1.0079 - val_mean_squared_error: 0.9837\n",
      "Epoch 38/40\n",
      "79855/79855 [==============================] - 8s 98us/step - loss: 1.0367 - mean_squared_error: 1.0041 - val_loss: 1.0181 - val_mean_squared_error: 0.9838\n",
      "Epoch 39/40\n",
      "79855/79855 [==============================] - 8s 95us/step - loss: 1.0353 - mean_squared_error: 1.0043 - val_loss: 1.0069 - val_mean_squared_error: 0.9837\n",
      "Epoch 40/40\n",
      "79855/79855 [==============================] - 8s 94us/step - loss: 1.0336 - mean_squared_error: 1.0043 - val_loss: 0.9949 - val_mean_squared_error: 0.9837\n"
     ]
    },
    {
     "data": {
      "text/plain": [
       "<keras.callbacks.History at 0x212106d8278>"
      ]
     },
     "execution_count": 284,
     "metadata": {},
     "output_type": "execute_result"
    }
   ],
   "source": [
    "model.fit(X_train_count, y_train, epochs=40, batch_size=200,validation_split = 0.2)"
   ]
  },
  {
   "cell_type": "code",
   "execution_count": 285,
   "metadata": {},
   "outputs": [],
   "source": [
    "# Neural network\n",
    "model_tf = Sequential()\n",
    "model_tf.add(Dense(128, input_dim=4999, activation='relu',kernel_regularizer=regularizers.l2(0.01),\n",
    "                activity_regularizer=regularizers.l1(0.01)))\n",
    "model_tf.add(Dense(128, activation='relu',kernel_regularizer=regularizers.l2(0.01),\n",
    "                activity_regularizer=regularizers.l1(0.01)))\n",
    "model_tf.add(Dense(128, activation='relu',kernel_regularizer=regularizers.l2(0.01),\n",
    "                activity_regularizer=regularizers.l1(0.01)))\n",
    "model_tf.add(Dense(1,kernel_regularizer=regularizers.l2(0.01),\n",
    "                activity_regularizer=regularizers.l1(0.01)))"
   ]
  },
  {
   "cell_type": "code",
   "execution_count": 286,
   "metadata": {},
   "outputs": [
    {
     "name": "stdout",
     "output_type": "stream",
     "text": [
      "_________________________________________________________________\n",
      "Layer (type)                 Output Shape              Param #   \n",
      "=================================================================\n",
      "dense_21 (Dense)             (None, 128)               640000    \n",
      "_________________________________________________________________\n",
      "dense_22 (Dense)             (None, 128)               16512     \n",
      "_________________________________________________________________\n",
      "dense_23 (Dense)             (None, 128)               16512     \n",
      "_________________________________________________________________\n",
      "dense_24 (Dense)             (None, 1)                 129       \n",
      "=================================================================\n",
      "Total params: 673,153\n",
      "Trainable params: 673,153\n",
      "Non-trainable params: 0\n",
      "_________________________________________________________________\n"
     ]
    }
   ],
   "source": [
    "model_tf.summary()"
   ]
  },
  {
   "cell_type": "code",
   "execution_count": 287,
   "metadata": {},
   "outputs": [],
   "source": [
    "model_tf.compile(loss='mean_squared_error', optimizer='sgd', metrics=['mse'])"
   ]
  },
  {
   "cell_type": "code",
   "execution_count": 288,
   "metadata": {},
   "outputs": [
    {
     "name": "stdout",
     "output_type": "stream",
     "text": [
      "Train on 79855 samples, validate on 19964 samples\n",
      "Epoch 1/40\n",
      "79855/79855 [==============================] - 13s 161us/step - loss: 5.7309 - mean_squared_error: 1.0043 - val_loss: 5.3165 - val_mean_squared_error: 0.9837\n",
      "Epoch 2/40\n",
      "79855/79855 [==============================] - 9s 118us/step - loss: 5.0173 - mean_squared_error: 1.0042 - val_loss: 4.6838 - val_mean_squared_error: 0.9838\n",
      "Epoch 3/40\n",
      "79855/79855 [==============================] - 7s 93us/step - loss: 4.4267 - mean_squared_error: 1.0041 - val_loss: 4.1257 - val_mean_squared_error: 0.9837\n",
      "Epoch 4/40\n",
      "79855/79855 [==============================] - 8s 94us/step - loss: 3.9237 - mean_squared_error: 1.0042 - val_loss: 3.6654 - val_mean_squared_error: 0.9837\n",
      "Epoch 5/40\n",
      "79855/79855 [==============================] - 8s 96us/step - loss: 3.4950 - mean_squared_error: 1.0042 - val_loss: 3.2641 - val_mean_squared_error: 0.9837\n",
      "Epoch 6/40\n",
      "79855/79855 [==============================] - 8s 95us/step - loss: 3.1296 - mean_squared_error: 1.0042 - val_loss: 2.9290 - val_mean_squared_error: 0.9837\n",
      "Epoch 7/40\n",
      "79855/79855 [==============================] - 8s 95us/step - loss: 2.8184 - mean_squared_error: 1.0042 - val_loss: 2.6430 - val_mean_squared_error: 0.9837\n",
      "Epoch 8/40\n",
      "79855/79855 [==============================] - 8s 95us/step - loss: 2.5531 - mean_squared_error: 1.0043 - val_loss: 2.4001 - val_mean_squared_error: 0.9837\n",
      "Epoch 9/40\n",
      "79855/79855 [==============================] - 8s 95us/step - loss: 2.3268 - mean_squared_error: 1.0041 - val_loss: 2.1963 - val_mean_squared_error: 0.9837\n",
      "Epoch 10/40\n",
      "79855/79855 [==============================] - 8s 94us/step - loss: 2.1347 - mean_squared_error: 1.0044 - val_loss: 2.0229 - val_mean_squared_error: 0.9837\n",
      "Epoch 11/40\n",
      "79855/79855 [==============================] - 8s 95us/step - loss: 1.9702 - mean_squared_error: 1.0042 - val_loss: 1.8871 - val_mean_squared_error: 0.9839\n",
      "Epoch 12/40\n",
      "79855/79855 [==============================] - 8s 95us/step - loss: 1.8304 - mean_squared_error: 1.0042 - val_loss: 1.7338 - val_mean_squared_error: 0.9837\n",
      "Epoch 13/40\n",
      "79855/79855 [==============================] - 8s 98us/step - loss: 1.7114 - mean_squared_error: 1.0042 - val_loss: 1.6378 - val_mean_squared_error: 0.9838\n",
      "Epoch 14/40\n",
      "79855/79855 [==============================] - 8s 98us/step - loss: 1.6095 - mean_squared_error: 1.0041 - val_loss: 1.5289 - val_mean_squared_error: 0.9837\n",
      "Epoch 15/40\n",
      "79855/79855 [==============================] - 8s 95us/step - loss: 1.5232 - mean_squared_error: 1.0042 - val_loss: 1.4646 - val_mean_squared_error: 0.9838\n",
      "Epoch 16/40\n",
      "79855/79855 [==============================] - 8s 96us/step - loss: 1.4494 - mean_squared_error: 1.0042 - val_loss: 1.3802 - val_mean_squared_error: 0.9837\n",
      "Epoch 17/40\n",
      "79855/79855 [==============================] - 10s 121us/step - loss: 1.3867 - mean_squared_error: 1.0043 - val_loss: 1.3395 - val_mean_squared_error: 0.9838\n",
      "Epoch 18/40\n",
      "79855/79855 [==============================] - 9s 110us/step - loss: 1.3333 - mean_squared_error: 1.0043 - val_loss: 1.2787 - val_mean_squared_error: 0.9837\n",
      "Epoch 19/40\n",
      "79855/79855 [==============================] - 8s 105us/step - loss: 1.2873 - mean_squared_error: 1.0042 - val_loss: 1.2505 - val_mean_squared_error: 0.9838\n",
      "Epoch 20/40\n",
      "79855/79855 [==============================] - 11s 139us/step - loss: 1.2484 - mean_squared_error: 1.0042 - val_loss: 1.1980 - val_mean_squared_error: 0.9837\n",
      "Epoch 21/40\n",
      "79855/79855 [==============================] - 9s 110us/step - loss: 1.2155 - mean_squared_error: 1.0043 - val_loss: 1.1828 - val_mean_squared_error: 0.9838\n",
      "Epoch 22/40\n",
      "79855/79855 [==============================] - 8s 95us/step - loss: 1.1872 - mean_squared_error: 1.0043 - val_loss: 1.1501 - val_mean_squared_error: 0.9837\n",
      "Epoch 23/40\n",
      "79855/79855 [==============================] - 8s 96us/step - loss: 1.1632 - mean_squared_error: 1.0043 - val_loss: 1.1207 - val_mean_squared_error: 0.9837\n",
      "Epoch 24/40\n",
      "79855/79855 [==============================] - 8s 96us/step - loss: 1.1429 - mean_squared_error: 1.0043 - val_loss: 1.1041 - val_mean_squared_error: 0.9837\n",
      "Epoch 25/40\n",
      "79855/79855 [==============================] - 8s 98us/step - loss: 1.1253 - mean_squared_error: 1.0043 - val_loss: 1.1060 - val_mean_squared_error: 0.9839\n",
      "Epoch 26/40\n",
      "79855/79855 [==============================] - 8s 96us/step - loss: 1.1103 - mean_squared_error: 1.0043 - val_loss: 1.0690 - val_mean_squared_error: 0.9837\n",
      "Epoch 27/40\n",
      "79855/79855 [==============================] - 8s 96us/step - loss: 1.0976 - mean_squared_error: 1.0043 - val_loss: 1.0675 - val_mean_squared_error: 0.9838\n",
      "Epoch 28/40\n",
      "79855/79855 [==============================] - 8s 98us/step - loss: 1.0864 - mean_squared_error: 1.0041 - val_loss: 1.0645 - val_mean_squared_error: 0.9838\n",
      "Epoch 29/40\n",
      "79855/79855 [==============================] - 8s 97us/step - loss: 1.0776 - mean_squared_error: 1.0042 - val_loss: 1.0395 - val_mean_squared_error: 0.9837\n",
      "Epoch 30/40\n",
      "79855/79855 [==============================] - 8s 96us/step - loss: 1.0700 - mean_squared_error: 1.0044 - val_loss: 1.0380 - val_mean_squared_error: 0.9837\n",
      "Epoch 31/40\n",
      "79855/79855 [==============================] - 8s 99us/step - loss: 1.0633 - mean_squared_error: 1.0043 - val_loss: 1.0481 - val_mean_squared_error: 0.9839\n",
      "Epoch 32/40\n",
      "79855/79855 [==============================] - 10s 124us/step - loss: 1.0573 - mean_squared_error: 1.0042 - val_loss: 1.0316 - val_mean_squared_error: 0.9838\n",
      "Epoch 33/40\n",
      "79855/79855 [==============================] - 8s 101us/step - loss: 1.0525 - mean_squared_error: 1.0042 - val_loss: 1.0150 - val_mean_squared_error: 0.9837\n",
      "Epoch 34/40\n",
      "79855/79855 [==============================] - 8s 101us/step - loss: 1.0485 - mean_squared_error: 1.0043 - val_loss: 1.0280 - val_mean_squared_error: 0.9838\n",
      "Epoch 35/40\n",
      "79855/79855 [==============================] - 11s 132us/step - loss: 1.0445 - mean_squared_error: 1.0041 - val_loss: 1.0075 - val_mean_squared_error: 0.9837\n",
      "Epoch 36/40\n",
      "79855/79855 [==============================] - 8s 100us/step - loss: 1.0416 - mean_squared_error: 1.0042 - val_loss: 1.0204 - val_mean_squared_error: 0.9838\n",
      "Epoch 37/40\n",
      "79855/79855 [==============================] - 8s 100us/step - loss: 1.0389 - mean_squared_error: 1.0040 - val_loss: 1.0259 - val_mean_squared_error: 0.9839\n",
      "Epoch 38/40\n",
      "79855/79855 [==============================] - 8s 99us/step - loss: 1.0367 - mean_squared_error: 1.0040 - val_loss: 1.0063 - val_mean_squared_error: 0.9837\n",
      "Epoch 39/40\n",
      "79855/79855 [==============================] - 8s 97us/step - loss: 1.0352 - mean_squared_error: 1.0042 - val_loss: 1.0076 - val_mean_squared_error: 0.9837\n",
      "Epoch 40/40\n",
      "79855/79855 [==============================] - 8s 97us/step - loss: 1.0337 - mean_squared_error: 1.0043 - val_loss: 0.9922 - val_mean_squared_error: 0.9837\n"
     ]
    },
    {
     "data": {
      "text/plain": [
       "<keras.callbacks.History at 0x212118a8f98>"
      ]
     },
     "execution_count": 288,
     "metadata": {},
     "output_type": "execute_result"
    }
   ],
   "source": [
    "model_tf.fit(X_train_tf, y_train, epochs=40, batch_size=200,validation_split = 0.2)"
   ]
  },
  {
   "cell_type": "code",
   "execution_count": 289,
   "metadata": {},
   "outputs": [
    {
     "data": {
      "text/plain": [
       "Ridge(alpha=1.0, copy_X=True, fit_intercept=True, max_iter=None,\n",
       "      normalize=False, random_state=None, solver='auto', tol=0.001)"
      ]
     },
     "execution_count": 289,
     "metadata": {},
     "output_type": "execute_result"
    }
   ],
   "source": [
    "clf = Ridge(alpha=1.0)\n",
    "clf.fit(X_train_count, y_train)\n"
   ]
  },
  {
   "cell_type": "code",
   "execution_count": 290,
   "metadata": {},
   "outputs": [
    {
     "data": {
      "text/plain": [
       "Ridge(alpha=1.0, copy_X=True, fit_intercept=True, max_iter=None,\n",
       "      normalize=False, random_state=None, solver='auto', tol=0.001)"
      ]
     },
     "execution_count": 290,
     "metadata": {},
     "output_type": "execute_result"
    }
   ],
   "source": [
    "clf_tf = Ridge(alpha=1.0)\n",
    "clf_tf.fit(X_train_tf, y_train)\n"
   ]
  },
  {
   "cell_type": "code",
   "execution_count": 291,
   "metadata": {},
   "outputs": [],
   "source": [
    "y_pred_ridge = clf.predict(X_test_count)"
   ]
  },
  {
   "cell_type": "code",
   "execution_count": 292,
   "metadata": {},
   "outputs": [],
   "source": [
    "y_pred_tf_ridge = clf_tf.predict(X_test_tf)"
   ]
  },
  {
   "cell_type": "code",
   "execution_count": 293,
   "metadata": {},
   "outputs": [],
   "source": [
    "y_pred_tf = model_tf.predict(X_test_tf)"
   ]
  },
  {
   "cell_type": "code",
   "execution_count": 294,
   "metadata": {},
   "outputs": [],
   "source": [
    "y_pred = model.predict(X_test_count)"
   ]
  },
  {
   "cell_type": "code",
   "execution_count": 295,
   "metadata": {},
   "outputs": [
    {
     "name": "stdout",
     "output_type": "stream",
     "text": [
      "0.9761688032671104\n",
      "1.1097934475775817\n",
      "0.9820139996144035\n",
      "0.9820242643975595\n",
      "0.9820144376511395\n"
     ]
    }
   ],
   "source": [
    "print(f'{np.sqrt(mean_squared_error(y_test, y_pred_tf_ridge))}')\n",
    "print(f'{np.sqrt(mean_squared_error(y_test, y_pred_ridge))}')\n",
    "print(f'{np.sqrt(mean_squared_error(y_test, y_pred_tf))}')\n",
    "print(f'{np.sqrt(mean_squared_error(y_test, y_pred))}')\n",
    "print(f'{np.sqrt(mean_squared_error(y_test, np.full_like(y_test,y_train.mean())))}')"
   ]
  },
  {
   "cell_type": "code",
   "execution_count": 297,
   "metadata": {},
   "outputs": [
    {
     "name": "stdout",
     "output_type": "stream",
     "text": [
      "Linear Regression (TF-IDF) error: 0.97617\n",
      "Linear Regression (Bag-of-Words) error: 1.10979\n",
      "Neural Network (TF-IDF) error: 0.98201\n",
      "Neural Network (Bag-of-Words) error: 0.98202\n",
      "Baseline Model error: 0.98201\n"
     ]
    }
   ],
   "source": [
    "print(f'Linear Regression (TF-IDF) error: {round(np.sqrt(mean_squared_error(y_test, y_pred_tf_ridge)),5)}')\n",
    "print(f'Linear Regression (Bag-of-Words) error: {round(np.sqrt(mean_squared_error(y_test, y_pred_ridge)),5)}')\n",
    "print(f'Neural Network (TF-IDF) error: {round(np.sqrt(mean_squared_error(y_test, y_pred_tf)),5)}')\n",
    "print(f'Neural Network (Bag-of-Words) error: {round(np.sqrt(mean_squared_error(y_test, y_pred)),5)}')\n",
    "print(f'Baseline Model error: {round(np.sqrt(mean_squared_error(y_test, np.full_like(y_test,y_train.mean()))),5)}')"
   ]
  },
  {
   "cell_type": "code",
   "execution_count": 221,
   "metadata": {},
   "outputs": [
    {
     "data": {
      "text/plain": [
       "(24955, 4997)"
      ]
     },
     "execution_count": 221,
     "metadata": {},
     "output_type": "execute_result"
    }
   ],
   "source": [
    "X_test_count.shape"
   ]
  },
  {
   "cell_type": "code",
   "execution_count": null,
   "metadata": {},
   "outputs": [],
   "source": []
  }
 ],
 "metadata": {
  "kernelspec": {
   "display_name": "Python 3",
   "language": "python",
   "name": "python3"
  },
  "language_info": {
   "codemirror_mode": {
    "name": "ipython",
    "version": 3
   },
   "file_extension": ".py",
   "mimetype": "text/x-python",
   "name": "python",
   "nbconvert_exporter": "python",
   "pygments_lexer": "ipython3",
   "version": "3.6.5"
  }
 },
 "nbformat": 4,
 "nbformat_minor": 2
}
